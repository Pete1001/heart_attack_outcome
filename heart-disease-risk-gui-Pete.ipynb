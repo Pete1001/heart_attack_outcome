{
 "cells": [
  {
   "cell_type": "code",
   "execution_count": 2,
   "metadata": {},
   "outputs": [
    {
     "data": {
      "application/vnd.jupyter.widget-view+json": {
       "model_id": "9c2e6de57d364f81ac9253c4711755a6",
       "version_major": 2,
       "version_minor": 0
      },
      "text/plain": [
       "tokenizer_config.json:   0%|          | 0.00/42.0 [00:00<?, ?B/s]"
      ]
     },
     "metadata": {},
     "output_type": "display_data"
    },
    {
     "name": "stderr",
     "output_type": "stream",
     "text": [
      "c:\\Users\\adminpl\\.conda\\envs\\dev\\Lib\\site-packages\\huggingface_hub\\file_download.py:140: UserWarning: `huggingface_hub` cache-system uses symlinks by default to efficiently store duplicated files but your machine does not support them in C:\\Users\\adminpl\\.cache\\huggingface\\hub\\models--Helsinki-NLP--opus-mt-de-en. Caching files will still work but in a degraded version that might require more space on your disk. This warning can be disabled by setting the `HF_HUB_DISABLE_SYMLINKS_WARNING` environment variable. For more details, see https://huggingface.co/docs/huggingface_hub/how-to-cache#limitations.\n",
      "To support symlinks on Windows, you either need to activate Developer Mode or to run Python as an administrator. In order to activate developer mode, see this article: https://docs.microsoft.com/en-us/windows/apps/get-started/enable-your-device-for-development\n",
      "  warnings.warn(message)\n"
     ]
    },
    {
     "data": {
      "application/vnd.jupyter.widget-view+json": {
       "model_id": "58a76a8e175d4c069f7e290b14cffbd9",
       "version_major": 2,
       "version_minor": 0
      },
      "text/plain": [
       "source.spm:   0%|          | 0.00/797k [00:00<?, ?B/s]"
      ]
     },
     "metadata": {},
     "output_type": "display_data"
    },
    {
     "data": {
      "application/vnd.jupyter.widget-view+json": {
       "model_id": "b4fb9d6ca8bf453db67c4d9e70c09875",
       "version_major": 2,
       "version_minor": 0
      },
      "text/plain": [
       "target.spm:   0%|          | 0.00/768k [00:00<?, ?B/s]"
      ]
     },
     "metadata": {},
     "output_type": "display_data"
    },
    {
     "data": {
      "application/vnd.jupyter.widget-view+json": {
       "model_id": "6c1b7f034cac4136b362a9d332e9d76b",
       "version_major": 2,
       "version_minor": 0
      },
      "text/plain": [
       "vocab.json:   0%|          | 0.00/1.27M [00:00<?, ?B/s]"
      ]
     },
     "metadata": {},
     "output_type": "display_data"
    },
    {
     "data": {
      "application/vnd.jupyter.widget-view+json": {
       "model_id": "2e2a4bb419b54ea9bbd3d8fbc390c4ad",
       "version_major": 2,
       "version_minor": 0
      },
      "text/plain": [
       "config.json:   0%|          | 0.00/1.38k [00:00<?, ?B/s]"
      ]
     },
     "metadata": {},
     "output_type": "display_data"
    },
    {
     "data": {
      "application/vnd.jupyter.widget-view+json": {
       "model_id": "49e2407836e84e47b4579b530f43a244",
       "version_major": 2,
       "version_minor": 0
      },
      "text/plain": [
       "pytorch_model.bin:   0%|          | 0.00/298M [00:00<?, ?B/s]"
      ]
     },
     "metadata": {},
     "output_type": "display_data"
    },
    {
     "data": {
      "application/vnd.jupyter.widget-view+json": {
       "model_id": "14065ec789704f33bf0875466a2f41e9",
       "version_major": 2,
       "version_minor": 0
      },
      "text/plain": [
       "generation_config.json:   0%|          | 0.00/293 [00:00<?, ?B/s]"
      ]
     },
     "metadata": {},
     "output_type": "display_data"
    },
    {
     "data": {
      "application/vnd.jupyter.widget-view+json": {
       "model_id": "3f91bc666ffa494e87b66db3b9545bad",
       "version_major": 2,
       "version_minor": 0
      },
      "text/plain": [
       "model.safetensors:   0%|          | 0.00/298M [00:00<?, ?B/s]"
      ]
     },
     "metadata": {},
     "output_type": "display_data"
    },
    {
     "data": {
      "application/vnd.jupyter.widget-view+json": {
       "model_id": "f4c2053f250643149a88913d968ca338",
       "version_major": 2,
       "version_minor": 0
      },
      "text/plain": [
       "model.safetensors:   0%|          | 0.00/298M [00:00<?, ?B/s]"
      ]
     },
     "metadata": {},
     "output_type": "display_data"
    }
   ],
   "source": [
    "import pandas as pd\n",
    "import tkinter as tk\n",
    "from tkinter import messagebox, ttk\n",
    "import numpy as np\n",
    "from transformers import MarianMTModel, MarianTokenizer\n",
    "\n",
    "# Define available languages and their MarianMT model codes\n",
    "LANGUAGE_CODES = {\n",
    "    \"English\": \"en\",\n",
    "    \"Spanish\": \"es\",\n",
    "    \"German\": \"de\"\n",
    "}\n",
    "\n",
    "# MarianMT model mapping for translation pairs\n",
    "TRANSLATION_MODELS = {\n",
    "    (\"en\", \"es\"): \"Helsinki-NLP/opus-mt-en-es\",\n",
    "    (\"en\", \"de\"): \"Helsinki-NLP/opus-mt-en-de\",\n",
    "    (\"es\", \"en\"): \"Helsinki-NLP/opus-mt-es-en\",\n",
    "    (\"de\", \"en\"): \"Helsinki-NLP/opus-mt-de-en\",\n",
    "    (\"es\", \"de\"): \"Helsinki-NLP/opus-mt-es-de\",\n",
    "    (\"de\", \"es\"): \"Helsinki-NLP/opus-mt-de-es\",\n",
    "}\n",
    "\n",
    "# Load translation model\n",
    "def load_translation_model(src_lang, tgt_lang):\n",
    "    model_name = TRANSLATION_MODELS.get((src_lang, tgt_lang))\n",
    "    if model_name:\n",
    "        tokenizer = MarianTokenizer.from_pretrained(model_name)\n",
    "        model = MarianMTModel.from_pretrained(model_name)\n",
    "        return tokenizer, model\n",
    "    return None, None\n",
    "\n",
    "# Function to translate text\n",
    "def translate_text(text, src_lang, tgt_lang):\n",
    "    if src_lang == tgt_lang:\n",
    "        return text  # No need to translate\n",
    "\n",
    "    tokenizer, model = load_translation_model(src_lang, tgt_lang)\n",
    "    if not model:\n",
    "        return text  # Model not available for the selected pair\n",
    "\n",
    "    inputs = tokenizer(text, return_tensors=\"pt\", padding=True, truncation=True)\n",
    "    translated_tokens = model.generate(**inputs)\n",
    "    translated_text = tokenizer.decode(translated_tokens[0], skip_special_tokens=True)\n",
    "    return translated_text\n",
    "\n",
    "# Function to update UI text based on selected language\n",
    "def update_language(*args):\n",
    "    global current_language\n",
    "    new_language = language_var.get()\n",
    "\n",
    "    if new_language == current_language:\n",
    "        return  # Avoid redundant updates\n",
    "\n",
    "    src_lang = LANGUAGE_CODES[current_language]\n",
    "    tgt_lang = LANGUAGE_CODES[new_language]\n",
    "    \n",
    "    # Translate all UI elements\n",
    "    labels_texts = {\n",
    "        label1: \"Heart Disease Risk Application\",\n",
    "        label2: \"Enter your age:\",\n",
    "        label3: \"Enter your cholesterol reading:\",\n",
    "        label4: \"Enter your resting heart rate (in beats per minute):\",\n",
    "        label5: \"What is your biological gender?\",\n",
    "        label6: \"Have you ever smoked?\",\n",
    "        label7: \"Have you been diagnosed with exercise-induced angina?\",\n",
    "    }\n",
    "\n",
    "    for label, text in labels_texts.items():\n",
    "        translated_text = translate_text(text, src_lang, tgt_lang)\n",
    "        label.config(text=translated_text)\n",
    "\n",
    "    # Update button text\n",
    "    translated_button_text = translate_text(\"Submit\", src_lang, tgt_lang)\n",
    "    submit_button.config(text=translated_button_text)\n",
    "\n",
    "    # Set new language\n",
    "    current_language = new_language\n",
    "\n",
    "# Function to process responses and give an answer\n",
    "def process_response():\n",
    "    try:\n",
    "        # Get age input and validate\n",
    "        age = int(age_entry.get())\n",
    "        if age < 18 or age > 70:\n",
    "            messagebox.showerror(\"Invalid input\", \"This assessment is based on data from 18 to 70 year olds.\")\n",
    "            return\n",
    "        \n",
    "        # Get cholesterol input and validate\n",
    "        cholesterol = int(cholesterol_entry.get())\n",
    "        if cholesterol > 240:\n",
    "            messagebox.showerror(\"Danger for Heart Disease\", \"Danger of Heart Disease if cholesterol reading is over 240 mg/dL.\")\n",
    "            return\n",
    "        \n",
    "        # Get resting heart rate and validate\n",
    "        resting_hr = int(resting_hr_entry.get())\n",
    "        if resting_hr > 180: \n",
    "            messagebox.showerror(\"Danger for Heart Disease\", \"Danger of Heart Disease if resting heart rate reading is over 180 beats per minute.\")\n",
    "            return\n",
    "        \n",
    "        # Risk Assessment Function\n",
    "        def risk_assessment(person_age, person_cholesterol, person_resting_hr):\n",
    "            user_input = pd.DataFrame({'age': [person_age],'cholesterol': [person_cholesterol], \n",
    "                                       'resting_hr': [person_resting_hr]})\n",
    "            prediction = np.random.rand()\n",
    "            if prediction > 0.5:\n",
    "                return 'Heart Disease Attack or Risk'\n",
    "            else:\n",
    "                return 'No Heart Disease Attack or Risk'\n",
    "\n",
    "        # Make a prediction and display result\n",
    "        result = risk_assessment(age, cholesterol, resting_hr)\n",
    "        messagebox.showinfo(\"Result\", result)\n",
    "\n",
    "    except ValueError:\n",
    "        # Handle non-numeric input\n",
    "        messagebox.showerror(\"Invalid Input\", \"Please enter a valid numeric input.\")\n",
    "\n",
    "# Create the main application window\n",
    "app = tk.Tk()\n",
    "app.title(\"Heart Disease Risk Application\")\n",
    "\n",
    "# Default language\n",
    "current_language = \"English\"\n",
    "\n",
    "# Language Selection Dropdown\n",
    "tk.Label(app, text=\"Select Language:\").pack()\n",
    "language_var = tk.StringVar(value=\"English\")\n",
    "language_dropdown = ttk.Combobox(app, textvariable=language_var, values=list(LANGUAGE_CODES.keys()))\n",
    "language_dropdown.pack()\n",
    "language_var.trace_add(\"write\", update_language)\n",
    "\n",
    "# Header\n",
    "label1 = tk.Label(app, text=\"Heart Disease Risk Application\")\n",
    "label1.pack()\n",
    "\n",
    "# Age Input\n",
    "label2 = tk.Label(app, text=\"Enter your age:\")\n",
    "label2.pack()\n",
    "age_entry = tk.Entry(app)\n",
    "age_entry.pack()\n",
    "\n",
    "# Cholesterol input\n",
    "label3 = tk.Label(app, text=\"Enter your cholesterol reading:\")\n",
    "label3.pack()\n",
    "cholesterol_entry = tk.Entry(app)\n",
    "cholesterol_entry.pack()\n",
    "\n",
    "# Resting Heart Rate input\n",
    "label4 = tk.Label(app, text=\"Enter your resting heart rate (in beats per minute):\")\n",
    "label4.pack()\n",
    "resting_hr_entry = tk.Entry(app)\n",
    "resting_hr_entry.pack()\n",
    "\n",
    "# Question 1: Gender request\n",
    "label5 = tk.Label(app, text=\"What is your biological gender?\")\n",
    "label5.pack()\n",
    "question1_var = tk.StringVar()\n",
    "tk.Radiobutton(app, text=\"M\", variable=question1_var, value=\"male\").pack()\n",
    "tk.Radiobutton(app, text=\"F\", variable=question1_var, value=\"female\").pack()\n",
    "\n",
    "# Question 2: Smoking status\n",
    "label6 = tk.Label(app, text=\"Have you ever smoked?\")\n",
    "label6.pack()\n",
    "question2_var = tk.StringVar()\n",
    "tk.Radiobutton(app, text=\"Yes\", variable=question2_var, value='yes').pack()\n",
    "tk.Radiobutton(app, text=\"No\", variable=question2_var, value='no').pack()\n",
    "\n",
    "# Question 3: Exercise-induced angina status\n",
    "label7 = tk.Label(app, text=\"Have you been diagnosed with exercise-induced angina?\")\n",
    "label7.pack()\n",
    "question3_var = tk.StringVar()\n",
    "tk.Radiobutton(app, text=\"Yes\", variable=question3_var, value='yes').pack()\n",
    "tk.Radiobutton(app, text=\"No\", variable=question3_var, value='no').pack()\n",
    "\n",
    "# Submit Button\n",
    "submit_button = tk.Button(app, text=\"Submit\", command=process_response)\n",
    "submit_button.pack()\n",
    "\n",
    "# Run the application\n",
    "app.mainloop()\n"
   ]
  }
 ],
 "metadata": {
  "kernelspec": {
   "display_name": "dev",
   "language": "python",
   "name": "python3"
  },
  "language_info": {
   "codemirror_mode": {
    "name": "ipython",
    "version": 3
   },
   "file_extension": ".py",
   "mimetype": "text/x-python",
   "name": "python",
   "nbconvert_exporter": "python",
   "pygments_lexer": "ipython3",
   "version": "3.12.4"
  }
 },
 "nbformat": 4,
 "nbformat_minor": 2
}
