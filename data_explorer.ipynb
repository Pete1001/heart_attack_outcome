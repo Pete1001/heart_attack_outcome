{
 "cells": [
  {
   "cell_type": "code",
   "execution_count": 2,
   "metadata": {},
   "outputs": [],
   "source": [
    "import pandas as pd"
   ]
  },
  {
   "cell_type": "code",
   "execution_count": 3,
   "metadata": {},
   "outputs": [
    {
     "data": {
      "text/html": [
       "<div>\n",
       "<style scoped>\n",
       "    .dataframe tbody tr th:only-of-type {\n",
       "        vertical-align: middle;\n",
       "    }\n",
       "\n",
       "    .dataframe tbody tr th {\n",
       "        vertical-align: top;\n",
       "    }\n",
       "\n",
       "    .dataframe thead th {\n",
       "        text-align: right;\n",
       "    }\n",
       "</style>\n",
       "<table border=\"1\" class=\"dataframe\">\n",
       "  <thead>\n",
       "    <tr style=\"text-align: right;\">\n",
       "      <th></th>\n",
       "      <th>Country</th>\n",
       "      <th>Age</th>\n",
       "      <th>Gender</th>\n",
       "      <th>Cholesterol_Level</th>\n",
       "      <th>Blood_Pressure</th>\n",
       "      <th>Smoking_History</th>\n",
       "      <th>Alcohol_Consumption</th>\n",
       "      <th>Physical_Activity</th>\n",
       "      <th>Obesity</th>\n",
       "      <th>Diabetes</th>\n",
       "      <th>...</th>\n",
       "      <th>LDL_Cholesterol</th>\n",
       "      <th>Triglycerides</th>\n",
       "      <th>Heart_Disease_Risk</th>\n",
       "      <th>Medication_Adherence</th>\n",
       "      <th>Urbanization_Level</th>\n",
       "      <th>Air_Pollution_Exposure</th>\n",
       "      <th>Access_To_Healthcare</th>\n",
       "      <th>Education_Level</th>\n",
       "      <th>Income_Level</th>\n",
       "      <th>Heart_Attack_Outcome</th>\n",
       "    </tr>\n",
       "  </thead>\n",
       "  <tbody>\n",
       "    <tr>\n",
       "      <th>0</th>\n",
       "      <td>Germany</td>\n",
       "      <td>39</td>\n",
       "      <td>Male</td>\n",
       "      <td>210.091036</td>\n",
       "      <td>173.301650</td>\n",
       "      <td>Never</td>\n",
       "      <td>0.531933</td>\n",
       "      <td>Active</td>\n",
       "      <td>No</td>\n",
       "      <td>No</td>\n",
       "      <td>...</td>\n",
       "      <td>68.333573</td>\n",
       "      <td>165.060897</td>\n",
       "      <td>Medium</td>\n",
       "      <td>No</td>\n",
       "      <td>Urban</td>\n",
       "      <td>51.988416</td>\n",
       "      <td>Good</td>\n",
       "      <td>Tertiary</td>\n",
       "      <td>Low</td>\n",
       "      <td>Died</td>\n",
       "    </tr>\n",
       "    <tr>\n",
       "      <th>1</th>\n",
       "      <td>Egypt</td>\n",
       "      <td>88</td>\n",
       "      <td>Male</td>\n",
       "      <td>163.998730</td>\n",
       "      <td>137.381678</td>\n",
       "      <td>Former</td>\n",
       "      <td>5.626668</td>\n",
       "      <td>Sedentary</td>\n",
       "      <td>Yes</td>\n",
       "      <td>Yes</td>\n",
       "      <td>...</td>\n",
       "      <td>98.194015</td>\n",
       "      <td>452.124651</td>\n",
       "      <td>Medium</td>\n",
       "      <td>No</td>\n",
       "      <td>Suburban</td>\n",
       "      <td>97.739896</td>\n",
       "      <td>Good</td>\n",
       "      <td>NaN</td>\n",
       "      <td>Low</td>\n",
       "      <td>Died</td>\n",
       "    </tr>\n",
       "    <tr>\n",
       "      <th>2</th>\n",
       "      <td>Spain</td>\n",
       "      <td>60</td>\n",
       "      <td>Female</td>\n",
       "      <td>263.502590</td>\n",
       "      <td>139.737677</td>\n",
       "      <td>Former</td>\n",
       "      <td>0.928015</td>\n",
       "      <td>Active</td>\n",
       "      <td>No</td>\n",
       "      <td>Yes</td>\n",
       "      <td>...</td>\n",
       "      <td>118.767677</td>\n",
       "      <td>171.432620</td>\n",
       "      <td>Low</td>\n",
       "      <td>No</td>\n",
       "      <td>Urban</td>\n",
       "      <td>60.352793</td>\n",
       "      <td>Poor</td>\n",
       "      <td>Tertiary</td>\n",
       "      <td>Low</td>\n",
       "      <td>Survived</td>\n",
       "    </tr>\n",
       "    <tr>\n",
       "      <th>3</th>\n",
       "      <td>Canada</td>\n",
       "      <td>25</td>\n",
       "      <td>Female</td>\n",
       "      <td>292.003927</td>\n",
       "      <td>85.992807</td>\n",
       "      <td>Former</td>\n",
       "      <td>7.374519</td>\n",
       "      <td>Active</td>\n",
       "      <td>No</td>\n",
       "      <td>Yes</td>\n",
       "      <td>...</td>\n",
       "      <td>190.190597</td>\n",
       "      <td>329.553258</td>\n",
       "      <td>Medium</td>\n",
       "      <td>No</td>\n",
       "      <td>Urban</td>\n",
       "      <td>14.397347</td>\n",
       "      <td>Good</td>\n",
       "      <td>Secondary</td>\n",
       "      <td>High</td>\n",
       "      <td>Survived</td>\n",
       "    </tr>\n",
       "    <tr>\n",
       "      <th>4</th>\n",
       "      <td>France</td>\n",
       "      <td>54</td>\n",
       "      <td>Female</td>\n",
       "      <td>267.736563</td>\n",
       "      <td>119.882856</td>\n",
       "      <td>Former</td>\n",
       "      <td>4.317845</td>\n",
       "      <td>Sedentary</td>\n",
       "      <td>Yes</td>\n",
       "      <td>No</td>\n",
       "      <td>...</td>\n",
       "      <td>188.209372</td>\n",
       "      <td>449.953074</td>\n",
       "      <td>High</td>\n",
       "      <td>Yes</td>\n",
       "      <td>Rural</td>\n",
       "      <td>69.448684</td>\n",
       "      <td>Good</td>\n",
       "      <td>NaN</td>\n",
       "      <td>Low</td>\n",
       "      <td>Died</td>\n",
       "    </tr>\n",
       "  </tbody>\n",
       "</table>\n",
       "<p>5 rows × 30 columns</p>\n",
       "</div>"
      ],
      "text/plain": [
       "   Country  Age  Gender  Cholesterol_Level  Blood_Pressure Smoking_History  \\\n",
       "0  Germany   39    Male         210.091036      173.301650           Never   \n",
       "1    Egypt   88    Male         163.998730      137.381678          Former   \n",
       "2    Spain   60  Female         263.502590      139.737677          Former   \n",
       "3   Canada   25  Female         292.003927       85.992807          Former   \n",
       "4   France   54  Female         267.736563      119.882856          Former   \n",
       "\n",
       "   Alcohol_Consumption Physical_Activity Obesity Diabetes  ...  \\\n",
       "0             0.531933            Active      No       No  ...   \n",
       "1             5.626668         Sedentary     Yes      Yes  ...   \n",
       "2             0.928015            Active      No      Yes  ...   \n",
       "3             7.374519            Active      No      Yes  ...   \n",
       "4             4.317845         Sedentary     Yes       No  ...   \n",
       "\n",
       "  LDL_Cholesterol  Triglycerides Heart_Disease_Risk Medication_Adherence  \\\n",
       "0       68.333573     165.060897             Medium                   No   \n",
       "1       98.194015     452.124651             Medium                   No   \n",
       "2      118.767677     171.432620                Low                   No   \n",
       "3      190.190597     329.553258             Medium                   No   \n",
       "4      188.209372     449.953074               High                  Yes   \n",
       "\n",
       "  Urbanization_Level Air_Pollution_Exposure Access_To_Healthcare  \\\n",
       "0              Urban              51.988416                 Good   \n",
       "1           Suburban              97.739896                 Good   \n",
       "2              Urban              60.352793                 Poor   \n",
       "3              Urban              14.397347                 Good   \n",
       "4              Rural              69.448684                 Good   \n",
       "\n",
       "   Education_Level Income_Level  Heart_Attack_Outcome  \n",
       "0         Tertiary          Low                  Died  \n",
       "1              NaN          Low                  Died  \n",
       "2         Tertiary          Low              Survived  \n",
       "3        Secondary         High              Survived  \n",
       "4              NaN          Low                  Died  \n",
       "\n",
       "[5 rows x 30 columns]"
      ]
     },
     "execution_count": 3,
     "metadata": {},
     "output_type": "execute_result"
    }
   ],
   "source": [
    "data = pd.read_csv('heart_attack_predictions.csv')\n",
    "data.head()"
   ]
  },
  {
   "cell_type": "code",
   "execution_count": 4,
   "metadata": {},
   "outputs": [
    {
     "data": {
      "text/plain": [
       "Index(['Country', 'Age', 'Gender', 'Cholesterol_Level', 'Blood_Pressure',\n",
       "       'Smoking_History', 'Alcohol_Consumption', 'Physical_Activity',\n",
       "       'Obesity', 'Diabetes', 'Family_History', 'Stress_Levels',\n",
       "       'Dietary_Habits', 'Heart_Attack_History', 'Chest_Pain',\n",
       "       'Exercise_Induced_Angina', 'Resting_ECG', 'Max_Heart_Rate_Achieved',\n",
       "       'Thalassemia', 'HDL_Cholesterol', 'LDL_Cholesterol', 'Triglycerides',\n",
       "       'Heart_Disease_Risk', 'Medication_Adherence', 'Urbanization_Level',\n",
       "       'Air_Pollution_Exposure', 'Access_To_Healthcare', 'Education_Level',\n",
       "       'Income_Level', 'Heart_Attack_Outcome'],\n",
       "      dtype='object')"
      ]
     },
     "execution_count": 4,
     "metadata": {},
     "output_type": "execute_result"
    }
   ],
   "source": [
    "data.columns"
   ]
  },
  {
   "cell_type": "code",
   "execution_count": 5,
   "metadata": {},
   "outputs": [
    {
     "data": {
      "text/plain": [
       "Country                     object\n",
       "Age                          int64\n",
       "Gender                      object\n",
       "Cholesterol_Level          float64\n",
       "Blood_Pressure             float64\n",
       "Smoking_History             object\n",
       "Alcohol_Consumption        float64\n",
       "Physical_Activity           object\n",
       "Obesity                     object\n",
       "Diabetes                    object\n",
       "Family_History              object\n",
       "Stress_Levels              float64\n",
       "Dietary_Habits              object\n",
       "Heart_Attack_History        object\n",
       "Chest_Pain                  object\n",
       "Exercise_Induced_Angina     object\n",
       "Resting_ECG                 object\n",
       "Max_Heart_Rate_Achieved      int64\n",
       "Thalassemia                 object\n",
       "HDL_Cholesterol            float64\n",
       "LDL_Cholesterol            float64\n",
       "Triglycerides              float64\n",
       "Heart_Disease_Risk          object\n",
       "Medication_Adherence        object\n",
       "Urbanization_Level          object\n",
       "Air_Pollution_Exposure     float64\n",
       "Access_To_Healthcare        object\n",
       "Education_Level             object\n",
       "Income_Level                object\n",
       "Heart_Attack_Outcome        object\n",
       "dtype: object"
      ]
     },
     "execution_count": 5,
     "metadata": {},
     "output_type": "execute_result"
    }
   ],
   "source": [
    "data.dtypes"
   ]
  },
  {
   "cell_type": "code",
   "execution_count": 33,
   "metadata": {},
   "outputs": [
    {
     "data": {
      "text/plain": [
       "array(['Low', 'High', 'Medium'], dtype=object)"
      ]
     },
     "execution_count": 33,
     "metadata": {},
     "output_type": "execute_result"
    }
   ],
   "source": [
    "data['Income_Level'].unique()"
   ]
  },
  {
   "cell_type": "code",
   "execution_count": 9,
   "metadata": {},
   "outputs": [],
   "source": [
    "Nominal_data = ['Country', 'Thalassemia']\n",
    "Binary_Data = ['Gender', 'Obesity', 'Diabetes', 'Family_History', 'Heart_Attack_History', 'Chest_Pain','Exercise_Induced_Angina', 'Resting_ECG', 'Medication_Adherence']\n",
    "# Resting_ECG abnormal and normal rather than yes and no\n",
    "Ordinal_Data = ['Smoking_History', 'Physical_Activity', 'Dietary_Habits', 'Heart_Disease_Risk', 'Urbanization_Level','Access_To_Healthcare', 'Education_Level', 'Income_Level' ]"
   ]
  },
  {
   "cell_type": "code",
   "execution_count": null,
   "metadata": {},
   "outputs": [],
   "source": [
    "from sklearn.preprocessing import OrdinalEncoder\n",
    "smoking_encoder = OrdinalEncoder(categories=[['Current', 'Former', 'Never']])\n",
    "activity_encoder = OrdinalEncoder(categories=[['Sedentary', 'Moderate', 'Active']])\n",
    "dietary_encoder = OrdinalEncoder(categories=[['Unhealthy', 'Moderate', 'Healthy']])\n",
    "heart_disease_risk_encoder = OrdinalEncoder(categories=[['Low', 'Medium', 'High']])\n",
    "urbanization_encoder = OrdinalEncoder(categories=[['Urban', 'Suburban', 'Rural']])\n",
    "access_to_healthcare_encoder = OrdinalEncoder(categories=[['Poor', 'Average', 'Good']])\n",
    "education_encoder = OrdinalEncoder(categories=[['nan', 'Primary', 'Secondary', 'Tertiary']])\n",
    "income_encoder = OrdinalEncoder(categories=[['Low', 'Medium', 'High']])"
   ]
  },
  {
   "cell_type": "code",
   "execution_count": 7,
   "metadata": {},
   "outputs": [],
   "source": [
    "heart_data = pd.read_csv('heart.csv')"
   ]
  },
  {
   "cell_type": "code",
   "execution_count": 8,
   "metadata": {},
   "outputs": [
    {
     "data": {
      "text/plain": [
       "Index(['age', 'sex', 'cp', 'trestbps', 'chol', 'fbs', 'restecg', 'thalach',\n",
       "       'exang', 'oldpeak', 'slope', 'ca', 'thal', 'target'],\n",
       "      dtype='object')"
      ]
     },
     "execution_count": 8,
     "metadata": {},
     "output_type": "execute_result"
    }
   ],
   "source": [
    "heart_data.columns"
   ]
  }
 ],
 "metadata": {
  "kernelspec": {
   "display_name": "base",
   "language": "python",
   "name": "python3"
  },
  "language_info": {
   "codemirror_mode": {
    "name": "ipython",
    "version": 3
   },
   "file_extension": ".py",
   "mimetype": "text/x-python",
   "name": "python",
   "nbconvert_exporter": "python",
   "pygments_lexer": "ipython3",
   "version": "3.12.4"
  }
 },
 "nbformat": 4,
 "nbformat_minor": 2
}
