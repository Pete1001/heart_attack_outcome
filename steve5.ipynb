{
 "cells": [
  {
   "cell_type": "code",
   "execution_count": 67,
   "metadata": {},
   "outputs": [],
   "source": [
    "# Import our dependencies\n",
    "from sklearn.model_selection import train_test_split\n",
    "from sklearn.preprocessing import StandardScaler, OrdinalEncoder, OneHotEncoder, LabelEncoder\n",
    "import pandas as pd\n",
    "import numpy as np"
   ]
  },
  {
   "cell_type": "code",
   "execution_count": 68,
   "metadata": {},
   "outputs": [
    {
     "data": {
      "text/html": [
       "<div>\n",
       "<style scoped>\n",
       "    .dataframe tbody tr th:only-of-type {\n",
       "        vertical-align: middle;\n",
       "    }\n",
       "\n",
       "    .dataframe tbody tr th {\n",
       "        vertical-align: top;\n",
       "    }\n",
       "\n",
       "    .dataframe thead th {\n",
       "        text-align: right;\n",
       "    }\n",
       "</style>\n",
       "<table border=\"1\" class=\"dataframe\">\n",
       "  <thead>\n",
       "    <tr style=\"text-align: right;\">\n",
       "      <th></th>\n",
       "      <th>Country</th>\n",
       "      <th>Age</th>\n",
       "      <th>Gender</th>\n",
       "      <th>Cholesterol_Level</th>\n",
       "      <th>Blood_Pressure</th>\n",
       "      <th>Smoking_History</th>\n",
       "      <th>Alcohol_Consumption</th>\n",
       "      <th>Physical_Activity</th>\n",
       "      <th>Obesity</th>\n",
       "      <th>Diabetes</th>\n",
       "      <th>...</th>\n",
       "      <th>LDL_Cholesterol</th>\n",
       "      <th>Triglycerides</th>\n",
       "      <th>Heart_Disease_Risk</th>\n",
       "      <th>Medication_Adherence</th>\n",
       "      <th>Urbanization_Level</th>\n",
       "      <th>Air_Pollution_Exposure</th>\n",
       "      <th>Access_To_Healthcare</th>\n",
       "      <th>Education_Level</th>\n",
       "      <th>Income_Level</th>\n",
       "      <th>Heart_Attack_Outcome</th>\n",
       "    </tr>\n",
       "  </thead>\n",
       "  <tbody>\n",
       "    <tr>\n",
       "      <th>0</th>\n",
       "      <td>Germany</td>\n",
       "      <td>39</td>\n",
       "      <td>Male</td>\n",
       "      <td>210.091036</td>\n",
       "      <td>173.301650</td>\n",
       "      <td>Never</td>\n",
       "      <td>0.531933</td>\n",
       "      <td>Active</td>\n",
       "      <td>No</td>\n",
       "      <td>No</td>\n",
       "      <td>...</td>\n",
       "      <td>68.333573</td>\n",
       "      <td>165.060897</td>\n",
       "      <td>Medium</td>\n",
       "      <td>No</td>\n",
       "      <td>Urban</td>\n",
       "      <td>51.988416</td>\n",
       "      <td>Good</td>\n",
       "      <td>Tertiary</td>\n",
       "      <td>Low</td>\n",
       "      <td>Died</td>\n",
       "    </tr>\n",
       "    <tr>\n",
       "      <th>1</th>\n",
       "      <td>Egypt</td>\n",
       "      <td>88</td>\n",
       "      <td>Male</td>\n",
       "      <td>163.998730</td>\n",
       "      <td>137.381678</td>\n",
       "      <td>Former</td>\n",
       "      <td>5.626668</td>\n",
       "      <td>Sedentary</td>\n",
       "      <td>Yes</td>\n",
       "      <td>Yes</td>\n",
       "      <td>...</td>\n",
       "      <td>98.194015</td>\n",
       "      <td>452.124651</td>\n",
       "      <td>Medium</td>\n",
       "      <td>No</td>\n",
       "      <td>Suburban</td>\n",
       "      <td>97.739896</td>\n",
       "      <td>Good</td>\n",
       "      <td>NaN</td>\n",
       "      <td>Low</td>\n",
       "      <td>Died</td>\n",
       "    </tr>\n",
       "    <tr>\n",
       "      <th>2</th>\n",
       "      <td>Spain</td>\n",
       "      <td>60</td>\n",
       "      <td>Female</td>\n",
       "      <td>263.502590</td>\n",
       "      <td>139.737677</td>\n",
       "      <td>Former</td>\n",
       "      <td>0.928015</td>\n",
       "      <td>Active</td>\n",
       "      <td>No</td>\n",
       "      <td>Yes</td>\n",
       "      <td>...</td>\n",
       "      <td>118.767677</td>\n",
       "      <td>171.432620</td>\n",
       "      <td>Low</td>\n",
       "      <td>No</td>\n",
       "      <td>Urban</td>\n",
       "      <td>60.352793</td>\n",
       "      <td>Poor</td>\n",
       "      <td>Tertiary</td>\n",
       "      <td>Low</td>\n",
       "      <td>Survived</td>\n",
       "    </tr>\n",
       "    <tr>\n",
       "      <th>3</th>\n",
       "      <td>Canada</td>\n",
       "      <td>25</td>\n",
       "      <td>Female</td>\n",
       "      <td>292.003927</td>\n",
       "      <td>85.992807</td>\n",
       "      <td>Former</td>\n",
       "      <td>7.374519</td>\n",
       "      <td>Active</td>\n",
       "      <td>No</td>\n",
       "      <td>Yes</td>\n",
       "      <td>...</td>\n",
       "      <td>190.190597</td>\n",
       "      <td>329.553258</td>\n",
       "      <td>Medium</td>\n",
       "      <td>No</td>\n",
       "      <td>Urban</td>\n",
       "      <td>14.397347</td>\n",
       "      <td>Good</td>\n",
       "      <td>Secondary</td>\n",
       "      <td>High</td>\n",
       "      <td>Survived</td>\n",
       "    </tr>\n",
       "    <tr>\n",
       "      <th>4</th>\n",
       "      <td>France</td>\n",
       "      <td>54</td>\n",
       "      <td>Female</td>\n",
       "      <td>267.736563</td>\n",
       "      <td>119.882856</td>\n",
       "      <td>Former</td>\n",
       "      <td>4.317845</td>\n",
       "      <td>Sedentary</td>\n",
       "      <td>Yes</td>\n",
       "      <td>No</td>\n",
       "      <td>...</td>\n",
       "      <td>188.209372</td>\n",
       "      <td>449.953074</td>\n",
       "      <td>High</td>\n",
       "      <td>Yes</td>\n",
       "      <td>Rural</td>\n",
       "      <td>69.448684</td>\n",
       "      <td>Good</td>\n",
       "      <td>NaN</td>\n",
       "      <td>Low</td>\n",
       "      <td>Died</td>\n",
       "    </tr>\n",
       "  </tbody>\n",
       "</table>\n",
       "<p>5 rows × 30 columns</p>\n",
       "</div>"
      ],
      "text/plain": [
       "   Country  Age  Gender  Cholesterol_Level  Blood_Pressure Smoking_History  \\\n",
       "0  Germany   39    Male         210.091036      173.301650           Never   \n",
       "1    Egypt   88    Male         163.998730      137.381678          Former   \n",
       "2    Spain   60  Female         263.502590      139.737677          Former   \n",
       "3   Canada   25  Female         292.003927       85.992807          Former   \n",
       "4   France   54  Female         267.736563      119.882856          Former   \n",
       "\n",
       "   Alcohol_Consumption Physical_Activity Obesity Diabetes  ...  \\\n",
       "0             0.531933            Active      No       No  ...   \n",
       "1             5.626668         Sedentary     Yes      Yes  ...   \n",
       "2             0.928015            Active      No      Yes  ...   \n",
       "3             7.374519            Active      No      Yes  ...   \n",
       "4             4.317845         Sedentary     Yes       No  ...   \n",
       "\n",
       "  LDL_Cholesterol  Triglycerides Heart_Disease_Risk Medication_Adherence  \\\n",
       "0       68.333573     165.060897             Medium                   No   \n",
       "1       98.194015     452.124651             Medium                   No   \n",
       "2      118.767677     171.432620                Low                   No   \n",
       "3      190.190597     329.553258             Medium                   No   \n",
       "4      188.209372     449.953074               High                  Yes   \n",
       "\n",
       "  Urbanization_Level Air_Pollution_Exposure Access_To_Healthcare  \\\n",
       "0              Urban              51.988416                 Good   \n",
       "1           Suburban              97.739896                 Good   \n",
       "2              Urban              60.352793                 Poor   \n",
       "3              Urban              14.397347                 Good   \n",
       "4              Rural              69.448684                 Good   \n",
       "\n",
       "   Education_Level Income_Level  Heart_Attack_Outcome  \n",
       "0         Tertiary          Low                  Died  \n",
       "1              NaN          Low                  Died  \n",
       "2         Tertiary          Low              Survived  \n",
       "3        Secondary         High              Survived  \n",
       "4              NaN          Low                  Died  \n",
       "\n",
       "[5 rows x 30 columns]"
      ]
     },
     "execution_count": 68,
     "metadata": {},
     "output_type": "execute_result"
    }
   ],
   "source": [
    "# Load the dataset into a DataFrame\n",
    "data = pd.read_csv('Resources/heart_attack_predictions.csv')\n",
    "data.head()"
   ]
  },
  {
   "cell_type": "code",
   "execution_count": 69,
   "metadata": {},
   "outputs": [],
   "source": [
    "#data.columns"
   ]
  },
  {
   "cell_type": "code",
   "execution_count": 70,
   "metadata": {},
   "outputs": [],
   "source": [
    "#data.dtypes"
   ]
  },
  {
   "cell_type": "code",
   "execution_count": 71,
   "metadata": {},
   "outputs": [
    {
     "name": "stdout",
     "output_type": "stream",
     "text": [
      "Object columns: ['Country', 'Gender', 'Smoking_History', 'Physical_Activity', 'Obesity', 'Diabetes', 'Family_History', 'Dietary_Habits', 'Heart_Attack_History', 'Chest_Pain', 'Exercise_Induced_Angina', 'Resting_ECG', 'Thalassemia', 'Heart_Disease_Risk', 'Medication_Adherence', 'Urbanization_Level', 'Access_To_Healthcare', 'Education_Level', 'Income_Level', 'Heart_Attack_Outcome']\n"
     ]
    }
   ],
   "source": [
    "# Identify all object columns\n",
    "object_columns = data.select_dtypes(include=['object']).columns.tolist()\n",
    "print(f\"Object columns: {object_columns}\")"
   ]
  },
  {
   "cell_type": "code",
   "execution_count": 72,
   "metadata": {},
   "outputs": [],
   "source": [
    "Nominal_data = ['Country', 'Thalassemia']\n",
    "Binary_Data = ['Gender', 'Obesity', 'Diabetes', 'Family_History', 'Heart_Attack_History', 'Chest_Pain','Exercise_Induced_Angina', 'Resting_ECG', 'Medication_Adherence', 'Heart_Attack_Outcome']\n",
    "# Resting_ECG abnormal and normal rather than yes and no\n",
    "Ordinal_Data = ['Smoking_History', 'Physical_Activity', 'Dietary_Habits', 'Heart_Disease_Risk', 'Urbanization_Level','Access_To_Healthcare', 'Education_Level', 'Income_Level' ]"
   ]
  },
  {
   "cell_type": "code",
   "execution_count": 73,
   "metadata": {},
   "outputs": [],
   "source": [
    "#Create Ordinal Encoders:\n",
    "smoking_encoder = OrdinalEncoder(categories=[['Current', 'Former', 'Never']])\n",
    "activity_encoder = OrdinalEncoder(categories=[['Sedentary', 'Moderate', 'Active']])\n",
    "dietary_encoder = OrdinalEncoder(categories=[['Unhealthy', 'Moderate', 'Healthy']])\n",
    "heart_disease_risk_encoder = OrdinalEncoder(categories=[['Low', 'Medium', 'High']])\n",
    "urbanization_encoder = OrdinalEncoder(categories=[['Urban', 'Suburban', 'Rural']])\n",
    "access_to_healthcare_encoder = OrdinalEncoder(categories=[['Poor', 'Average', 'Good']])\n",
    "#education_encoder = OrdinalEncoder(categories=[['Primary', 'Secondary', 'Tertiary']])\n",
    "income_encoder = OrdinalEncoder(categories=[['Low', 'Medium', 'High']])"
   ]
  },
  {
   "cell_type": "code",
   "execution_count": 74,
   "metadata": {},
   "outputs": [],
   "source": [
    "# Apply Ordinal Encoding to Ordinal Data\n",
    "data['Smoking_History'] = smoking_encoder.fit_transform(data[['Smoking_History']])\n",
    "data['Physical_Activity'] = activity_encoder.fit_transform(data[['Physical_Activity']])\n",
    "data['Dietary_Habits'] = dietary_encoder.fit_transform(data[['Dietary_Habits']])\n",
    "data['Heart_Disease_Risk'] = heart_disease_risk_encoder.fit_transform(data[['Heart_Disease_Risk']])\n",
    "data['Urbanization_Level'] = urbanization_encoder.fit_transform(data[['Urbanization_Level']])\n",
    "data['Access_To_Healthcare'] = access_to_healthcare_encoder.fit_transform(data[['Access_To_Healthcare']])\n",
    "#data['Education_Level'] = education_encoder.fit_transform(data[['Education_Level']])\n",
    "data['Income_Level'] = income_encoder.fit_transform(data[['Income_Level']])"
   ]
  },
  {
   "cell_type": "code",
   "execution_count": 75,
   "metadata": {},
   "outputs": [],
   "source": [
    "#One-hot encode the Nominal_data:\n",
    "data = pd.get_dummies(data, columns=['Country', 'Thalassemia'], drop_first=True)"
   ]
  },
  {
   "cell_type": "code",
   "execution_count": 76,
   "metadata": {},
   "outputs": [],
   "source": [
    "# Label encode Binary_Data:\n",
    "label_encoder = LabelEncoder()\n",
    "binary_columns = ['Gender', 'Obesity', 'Diabetes', 'Family_History', 'Heart_Attack_History', 'Chest_Pain', \n",
    "                  'Exercise_Induced_Angina', 'Resting_ECG', 'Medication_Adherence', 'Heart_Attack_Outcome']\n",
    "\n",
    "for col in binary_columns:\n",
    "    data[col] = label_encoder.fit_transform(data[col])"
   ]
  },
  {
   "cell_type": "code",
   "execution_count": 77,
   "metadata": {},
   "outputs": [],
   "source": [
    "# Scale numerical columns\n",
    "# List of numerical columns \n",
    "numerical_columns = data.select_dtypes(include=[np.number]).columns.tolist()\n",
    "\n",
    "# Apply scaling\n",
    "scaler = StandardScaler()\n",
    "data[numerical_columns] = scaler.fit_transform(data[numerical_columns])"
   ]
  },
  {
   "cell_type": "code",
   "execution_count": 78,
   "metadata": {},
   "outputs": [
    {
     "name": "stdout",
     "output_type": "stream",
     "text": [
      "Numerical columns: ['Age', 'Gender', 'Cholesterol_Level', 'Blood_Pressure', 'Smoking_History', 'Alcohol_Consumption', 'Physical_Activity', 'Obesity', 'Diabetes', 'Family_History', 'Stress_Levels', 'Dietary_Habits', 'Heart_Attack_History', 'Chest_Pain', 'Exercise_Induced_Angina', 'Resting_ECG', 'Max_Heart_Rate_Achieved', 'HDL_Cholesterol', 'LDL_Cholesterol', 'Triglycerides', 'Heart_Disease_Risk', 'Medication_Adherence', 'Urbanization_Level', 'Air_Pollution_Exposure', 'Access_To_Healthcare', 'Income_Level', 'Heart_Attack_Outcome']\n"
     ]
    }
   ],
   "source": [
    "print(f\"Numerical columns: {numerical_columns}\")"
   ]
  },
  {
   "cell_type": "code",
   "execution_count": 79,
   "metadata": {},
   "outputs": [],
   "source": [
    "#Split the data into train & test sets:\n",
    "y = data['Heart_Attack_Outcome']  \n",
    "\n",
    "X = data.drop(columns=['Heart_Attack_Outcome', 'Education_Level'])\n",
    "X = X.astype(float)\n",
    "\n",
    "# Split data into training and testing\n",
    "X_train, X_test, y_train, y_test = train_test_split(X, y, random_state=42)"
   ]
  },
  {
   "cell_type": "code",
   "execution_count": 80,
   "metadata": {},
   "outputs": [
    {
     "data": {
      "text/plain": [
       "Age                              float64\n",
       "Gender                           float64\n",
       "Cholesterol_Level                float64\n",
       "Blood_Pressure                   float64\n",
       "Smoking_History                  float64\n",
       "Alcohol_Consumption              float64\n",
       "Physical_Activity                float64\n",
       "Obesity                          float64\n",
       "Diabetes                         float64\n",
       "Family_History                   float64\n",
       "Stress_Levels                    float64\n",
       "Dietary_Habits                   float64\n",
       "Heart_Attack_History             float64\n",
       "Chest_Pain                       float64\n",
       "Exercise_Induced_Angina          float64\n",
       "Resting_ECG                      float64\n",
       "Max_Heart_Rate_Achieved          float64\n",
       "HDL_Cholesterol                  float64\n",
       "LDL_Cholesterol                  float64\n",
       "Triglycerides                    float64\n",
       "Heart_Disease_Risk               float64\n",
       "Medication_Adherence             float64\n",
       "Urbanization_Level               float64\n",
       "Air_Pollution_Exposure           float64\n",
       "Access_To_Healthcare             float64\n",
       "Income_Level                     float64\n",
       "Country_Bangladesh               float64\n",
       "Country_Brazil                   float64\n",
       "Country_Canada                   float64\n",
       "Country_China                    float64\n",
       "Country_Egypt                    float64\n",
       "Country_France                   float64\n",
       "Country_Germany                  float64\n",
       "Country_India                    float64\n",
       "Country_Indonesia                float64\n",
       "Country_Italy                    float64\n",
       "Country_Japan                    float64\n",
       "Country_Mexico                   float64\n",
       "Country_Nigeria                  float64\n",
       "Country_Pakistan                 float64\n",
       "Country_Philippines              float64\n",
       "Country_Russia                   float64\n",
       "Country_Saudi Arabia             float64\n",
       "Country_South Africa             float64\n",
       "Country_South Korea              float64\n",
       "Country_Spain                    float64\n",
       "Country_Turkey                   float64\n",
       "Country_United Kingdom           float64\n",
       "Country_United States            float64\n",
       "Country_Vietnam                  float64\n",
       "Thalassemia_Normal               float64\n",
       "Thalassemia_Reversible Defect    float64\n",
       "dtype: object"
      ]
     },
     "execution_count": 80,
     "metadata": {},
     "output_type": "execute_result"
    }
   ],
   "source": [
    "X.dtypes"
   ]
  },
  {
   "cell_type": "code",
   "execution_count": 81,
   "metadata": {},
   "outputs": [
    {
     "data": {
      "text/html": [
       "<div>\n",
       "<style scoped>\n",
       "    .dataframe tbody tr th:only-of-type {\n",
       "        vertical-align: middle;\n",
       "    }\n",
       "\n",
       "    .dataframe tbody tr th {\n",
       "        vertical-align: top;\n",
       "    }\n",
       "\n",
       "    .dataframe thead th {\n",
       "        text-align: right;\n",
       "    }\n",
       "</style>\n",
       "<table border=\"1\" class=\"dataframe\">\n",
       "  <thead>\n",
       "    <tr style=\"text-align: right;\">\n",
       "      <th></th>\n",
       "      <th>Age</th>\n",
       "      <th>Gender</th>\n",
       "      <th>Cholesterol_Level</th>\n",
       "      <th>Blood_Pressure</th>\n",
       "      <th>Smoking_History</th>\n",
       "      <th>Alcohol_Consumption</th>\n",
       "      <th>Physical_Activity</th>\n",
       "      <th>Obesity</th>\n",
       "      <th>Diabetes</th>\n",
       "      <th>Family_History</th>\n",
       "      <th>...</th>\n",
       "      <th>Country_Saudi Arabia</th>\n",
       "      <th>Country_South Africa</th>\n",
       "      <th>Country_South Korea</th>\n",
       "      <th>Country_Spain</th>\n",
       "      <th>Country_Turkey</th>\n",
       "      <th>Country_United Kingdom</th>\n",
       "      <th>Country_United States</th>\n",
       "      <th>Country_Vietnam</th>\n",
       "      <th>Thalassemia_Normal</th>\n",
       "      <th>Thalassemia_Reversible Defect</th>\n",
       "    </tr>\n",
       "  </thead>\n",
       "  <tbody>\n",
       "    <tr>\n",
       "      <th>0</th>\n",
       "      <td>-0.697687</td>\n",
       "      <td>1.000194</td>\n",
       "      <td>-0.342761</td>\n",
       "      <td>1.499293</td>\n",
       "      <td>1.225304</td>\n",
       "      <td>-1.547047</td>\n",
       "      <td>1.224179</td>\n",
       "      <td>-0.999414</td>\n",
       "      <td>-1.000364</td>\n",
       "      <td>1.000959</td>\n",
       "      <td>...</td>\n",
       "      <td>0.0</td>\n",
       "      <td>0.0</td>\n",
       "      <td>0.0</td>\n",
       "      <td>0.0</td>\n",
       "      <td>0.0</td>\n",
       "      <td>0.0</td>\n",
       "      <td>0.0</td>\n",
       "      <td>0.0</td>\n",
       "      <td>0.0</td>\n",
       "      <td>1.0</td>\n",
       "    </tr>\n",
       "    <tr>\n",
       "      <th>1</th>\n",
       "      <td>1.659034</td>\n",
       "      <td>1.000194</td>\n",
       "      <td>-1.407923</td>\n",
       "      <td>0.255335</td>\n",
       "      <td>-0.000287</td>\n",
       "      <td>0.216790</td>\n",
       "      <td>-1.224761</td>\n",
       "      <td>1.000586</td>\n",
       "      <td>0.999636</td>\n",
       "      <td>-0.999042</td>\n",
       "      <td>...</td>\n",
       "      <td>0.0</td>\n",
       "      <td>0.0</td>\n",
       "      <td>0.0</td>\n",
       "      <td>0.0</td>\n",
       "      <td>0.0</td>\n",
       "      <td>0.0</td>\n",
       "      <td>0.0</td>\n",
       "      <td>0.0</td>\n",
       "      <td>0.0</td>\n",
       "      <td>1.0</td>\n",
       "    </tr>\n",
       "    <tr>\n",
       "      <th>2</th>\n",
       "      <td>0.312336</td>\n",
       "      <td>-0.999806</td>\n",
       "      <td>0.891544</td>\n",
       "      <td>0.336927</td>\n",
       "      <td>-0.000287</td>\n",
       "      <td>-1.409920</td>\n",
       "      <td>1.224179</td>\n",
       "      <td>-0.999414</td>\n",
       "      <td>0.999636</td>\n",
       "      <td>-0.999042</td>\n",
       "      <td>...</td>\n",
       "      <td>0.0</td>\n",
       "      <td>0.0</td>\n",
       "      <td>0.0</td>\n",
       "      <td>1.0</td>\n",
       "      <td>0.0</td>\n",
       "      <td>0.0</td>\n",
       "      <td>0.0</td>\n",
       "      <td>0.0</td>\n",
       "      <td>1.0</td>\n",
       "      <td>0.0</td>\n",
       "    </tr>\n",
       "    <tr>\n",
       "      <th>3</th>\n",
       "      <td>-1.371036</td>\n",
       "      <td>-0.999806</td>\n",
       "      <td>1.550190</td>\n",
       "      <td>-1.524331</td>\n",
       "      <td>-0.000287</td>\n",
       "      <td>0.821910</td>\n",
       "      <td>1.224179</td>\n",
       "      <td>-0.999414</td>\n",
       "      <td>0.999636</td>\n",
       "      <td>1.000959</td>\n",
       "      <td>...</td>\n",
       "      <td>0.0</td>\n",
       "      <td>0.0</td>\n",
       "      <td>0.0</td>\n",
       "      <td>0.0</td>\n",
       "      <td>0.0</td>\n",
       "      <td>0.0</td>\n",
       "      <td>0.0</td>\n",
       "      <td>0.0</td>\n",
       "      <td>1.0</td>\n",
       "      <td>0.0</td>\n",
       "    </tr>\n",
       "    <tr>\n",
       "      <th>4</th>\n",
       "      <td>0.023758</td>\n",
       "      <td>-0.999806</td>\n",
       "      <td>0.989388</td>\n",
       "      <td>-0.350673</td>\n",
       "      <td>-0.000287</td>\n",
       "      <td>-0.236334</td>\n",
       "      <td>-1.224761</td>\n",
       "      <td>1.000586</td>\n",
       "      <td>-1.000364</td>\n",
       "      <td>-0.999042</td>\n",
       "      <td>...</td>\n",
       "      <td>0.0</td>\n",
       "      <td>0.0</td>\n",
       "      <td>0.0</td>\n",
       "      <td>0.0</td>\n",
       "      <td>0.0</td>\n",
       "      <td>0.0</td>\n",
       "      <td>0.0</td>\n",
       "      <td>0.0</td>\n",
       "      <td>0.0</td>\n",
       "      <td>1.0</td>\n",
       "    </tr>\n",
       "  </tbody>\n",
       "</table>\n",
       "<p>5 rows × 52 columns</p>\n",
       "</div>"
      ],
      "text/plain": [
       "        Age    Gender  Cholesterol_Level  Blood_Pressure  Smoking_History  \\\n",
       "0 -0.697687  1.000194          -0.342761        1.499293         1.225304   \n",
       "1  1.659034  1.000194          -1.407923        0.255335        -0.000287   \n",
       "2  0.312336 -0.999806           0.891544        0.336927        -0.000287   \n",
       "3 -1.371036 -0.999806           1.550190       -1.524331        -0.000287   \n",
       "4  0.023758 -0.999806           0.989388       -0.350673        -0.000287   \n",
       "\n",
       "   Alcohol_Consumption  Physical_Activity   Obesity  Diabetes  Family_History  \\\n",
       "0            -1.547047           1.224179 -0.999414 -1.000364        1.000959   \n",
       "1             0.216790          -1.224761  1.000586  0.999636       -0.999042   \n",
       "2            -1.409920           1.224179 -0.999414  0.999636       -0.999042   \n",
       "3             0.821910           1.224179 -0.999414  0.999636        1.000959   \n",
       "4            -0.236334          -1.224761  1.000586 -1.000364       -0.999042   \n",
       "\n",
       "   ...  Country_Saudi Arabia  Country_South Africa  Country_South Korea  \\\n",
       "0  ...                   0.0                   0.0                  0.0   \n",
       "1  ...                   0.0                   0.0                  0.0   \n",
       "2  ...                   0.0                   0.0                  0.0   \n",
       "3  ...                   0.0                   0.0                  0.0   \n",
       "4  ...                   0.0                   0.0                  0.0   \n",
       "\n",
       "   Country_Spain  Country_Turkey  Country_United Kingdom  \\\n",
       "0            0.0             0.0                     0.0   \n",
       "1            0.0             0.0                     0.0   \n",
       "2            1.0             0.0                     0.0   \n",
       "3            0.0             0.0                     0.0   \n",
       "4            0.0             0.0                     0.0   \n",
       "\n",
       "   Country_United States  Country_Vietnam  Thalassemia_Normal  \\\n",
       "0                    0.0              0.0                 0.0   \n",
       "1                    0.0              0.0                 0.0   \n",
       "2                    0.0              0.0                 1.0   \n",
       "3                    0.0              0.0                 1.0   \n",
       "4                    0.0              0.0                 0.0   \n",
       "\n",
       "   Thalassemia_Reversible Defect  \n",
       "0                            1.0  \n",
       "1                            1.0  \n",
       "2                            0.0  \n",
       "3                            0.0  \n",
       "4                            1.0  \n",
       "\n",
       "[5 rows x 52 columns]"
      ]
     },
     "execution_count": 81,
     "metadata": {},
     "output_type": "execute_result"
    }
   ],
   "source": [
    "X.head()"
   ]
  },
  {
   "cell_type": "code",
   "execution_count": 82,
   "metadata": {},
   "outputs": [
    {
     "data": {
      "text/html": [
       "<div>\n",
       "<style scoped>\n",
       "    .dataframe tbody tr th:only-of-type {\n",
       "        vertical-align: middle;\n",
       "    }\n",
       "\n",
       "    .dataframe tbody tr th {\n",
       "        vertical-align: top;\n",
       "    }\n",
       "\n",
       "    .dataframe thead th {\n",
       "        text-align: right;\n",
       "    }\n",
       "</style>\n",
       "<table border=\"1\" class=\"dataframe\">\n",
       "  <thead>\n",
       "    <tr style=\"text-align: right;\">\n",
       "      <th></th>\n",
       "      <th>age</th>\n",
       "      <th>sex</th>\n",
       "      <th>cp</th>\n",
       "      <th>trestbps</th>\n",
       "      <th>chol</th>\n",
       "      <th>fbs</th>\n",
       "      <th>restecg</th>\n",
       "      <th>thalach</th>\n",
       "      <th>exang</th>\n",
       "      <th>oldpeak</th>\n",
       "      <th>slope</th>\n",
       "      <th>ca</th>\n",
       "      <th>thal</th>\n",
       "      <th>target</th>\n",
       "    </tr>\n",
       "  </thead>\n",
       "  <tbody>\n",
       "    <tr>\n",
       "      <th>0</th>\n",
       "      <td>52</td>\n",
       "      <td>1</td>\n",
       "      <td>0</td>\n",
       "      <td>125</td>\n",
       "      <td>212</td>\n",
       "      <td>0</td>\n",
       "      <td>1</td>\n",
       "      <td>168</td>\n",
       "      <td>0</td>\n",
       "      <td>1.0</td>\n",
       "      <td>2</td>\n",
       "      <td>2</td>\n",
       "      <td>3</td>\n",
       "      <td>0</td>\n",
       "    </tr>\n",
       "    <tr>\n",
       "      <th>1</th>\n",
       "      <td>53</td>\n",
       "      <td>1</td>\n",
       "      <td>0</td>\n",
       "      <td>140</td>\n",
       "      <td>203</td>\n",
       "      <td>1</td>\n",
       "      <td>0</td>\n",
       "      <td>155</td>\n",
       "      <td>1</td>\n",
       "      <td>3.1</td>\n",
       "      <td>0</td>\n",
       "      <td>0</td>\n",
       "      <td>3</td>\n",
       "      <td>0</td>\n",
       "    </tr>\n",
       "    <tr>\n",
       "      <th>2</th>\n",
       "      <td>70</td>\n",
       "      <td>1</td>\n",
       "      <td>0</td>\n",
       "      <td>145</td>\n",
       "      <td>174</td>\n",
       "      <td>0</td>\n",
       "      <td>1</td>\n",
       "      <td>125</td>\n",
       "      <td>1</td>\n",
       "      <td>2.6</td>\n",
       "      <td>0</td>\n",
       "      <td>0</td>\n",
       "      <td>3</td>\n",
       "      <td>0</td>\n",
       "    </tr>\n",
       "    <tr>\n",
       "      <th>3</th>\n",
       "      <td>61</td>\n",
       "      <td>1</td>\n",
       "      <td>0</td>\n",
       "      <td>148</td>\n",
       "      <td>203</td>\n",
       "      <td>0</td>\n",
       "      <td>1</td>\n",
       "      <td>161</td>\n",
       "      <td>0</td>\n",
       "      <td>0.0</td>\n",
       "      <td>2</td>\n",
       "      <td>1</td>\n",
       "      <td>3</td>\n",
       "      <td>0</td>\n",
       "    </tr>\n",
       "    <tr>\n",
       "      <th>4</th>\n",
       "      <td>62</td>\n",
       "      <td>0</td>\n",
       "      <td>0</td>\n",
       "      <td>138</td>\n",
       "      <td>294</td>\n",
       "      <td>1</td>\n",
       "      <td>1</td>\n",
       "      <td>106</td>\n",
       "      <td>0</td>\n",
       "      <td>1.9</td>\n",
       "      <td>1</td>\n",
       "      <td>3</td>\n",
       "      <td>2</td>\n",
       "      <td>0</td>\n",
       "    </tr>\n",
       "  </tbody>\n",
       "</table>\n",
       "</div>"
      ],
      "text/plain": [
       "   age  sex  cp  trestbps  chol  fbs  restecg  thalach  exang  oldpeak  slope  \\\n",
       "0   52    1   0       125   212    0        1      168      0      1.0      2   \n",
       "1   53    1   0       140   203    1        0      155      1      3.1      0   \n",
       "2   70    1   0       145   174    0        1      125      1      2.6      0   \n",
       "3   61    1   0       148   203    0        1      161      0      0.0      2   \n",
       "4   62    0   0       138   294    1        1      106      0      1.9      1   \n",
       "\n",
       "   ca  thal  target  \n",
       "0   2     3       0  \n",
       "1   0     3       0  \n",
       "2   0     3       0  \n",
       "3   1     3       0  \n",
       "4   3     2       0  "
      ]
     },
     "execution_count": 82,
     "metadata": {},
     "output_type": "execute_result"
    }
   ],
   "source": [
    "heart_data = pd.read_csv('Resources/heart.csv')\n",
    "heart_data.head()"
   ]
  },
  {
   "cell_type": "code",
   "execution_count": 83,
   "metadata": {},
   "outputs": [
    {
     "data": {
      "text/plain": [
       "Index(['age', 'sex', 'cp', 'trestbps', 'chol', 'fbs', 'restecg', 'thalach',\n",
       "       'exang', 'oldpeak', 'slope', 'ca', 'thal', 'target'],\n",
       "      dtype='object')"
      ]
     },
     "execution_count": 83,
     "metadata": {},
     "output_type": "execute_result"
    }
   ],
   "source": [
    "heart_data.columns"
   ]
  },
  {
   "cell_type": "code",
   "execution_count": 84,
   "metadata": {},
   "outputs": [
    {
     "data": {
      "text/plain": [
       "age           int64\n",
       "sex           int64\n",
       "cp            int64\n",
       "trestbps      int64\n",
       "chol          int64\n",
       "fbs           int64\n",
       "restecg       int64\n",
       "thalach       int64\n",
       "exang         int64\n",
       "oldpeak     float64\n",
       "slope         int64\n",
       "ca            int64\n",
       "thal          int64\n",
       "target        int64\n",
       "dtype: object"
      ]
     },
     "execution_count": 84,
     "metadata": {},
     "output_type": "execute_result"
    }
   ],
   "source": [
    "heart_data.dtypes"
   ]
  },
  {
   "cell_type": "code",
   "execution_count": 85,
   "metadata": {},
   "outputs": [
    {
     "name": "stderr",
     "output_type": "stream",
     "text": [
      "/opt/anaconda3/envs/dev/lib/python3.10/site-packages/keras/src/layers/core/dense.py:87: UserWarning: Do not pass an `input_shape`/`input_dim` argument to a layer. When using Sequential models, prefer using an `Input(shape)` object as the first layer in the model instead.\n",
      "  super().__init__(activity_regularizer=activity_regularizer, **kwargs)\n"
     ]
    },
    {
     "data": {
      "text/html": [
       "<pre style=\"white-space:pre;overflow-x:auto;line-height:normal;font-family:Menlo,'DejaVu Sans Mono',consolas,'Courier New',monospace\"><span style=\"font-weight: bold\">Model: \"sequential_4\"</span>\n",
       "</pre>\n"
      ],
      "text/plain": [
       "\u001b[1mModel: \"sequential_4\"\u001b[0m\n"
      ]
     },
     "metadata": {},
     "output_type": "display_data"
    },
    {
     "data": {
      "text/html": [
       "<pre style=\"white-space:pre;overflow-x:auto;line-height:normal;font-family:Menlo,'DejaVu Sans Mono',consolas,'Courier New',monospace\">┏━━━━━━━━━━━━━━━━━━━━━━━━━━━━━━━━━┳━━━━━━━━━━━━━━━━━━━━━━━━┳━━━━━━━━━━━━━━━┓\n",
       "┃<span style=\"font-weight: bold\"> Layer (type)                    </span>┃<span style=\"font-weight: bold\"> Output Shape           </span>┃<span style=\"font-weight: bold\">       Param # </span>┃\n",
       "┡━━━━━━━━━━━━━━━━━━━━━━━━━━━━━━━━━╇━━━━━━━━━━━━━━━━━━━━━━━━╇━━━━━━━━━━━━━━━┩\n",
       "│ dense_12 (<span style=\"color: #0087ff; text-decoration-color: #0087ff\">Dense</span>)                │ (<span style=\"color: #00d7ff; text-decoration-color: #00d7ff\">None</span>, <span style=\"color: #00af00; text-decoration-color: #00af00\">6</span>)              │           <span style=\"color: #00af00; text-decoration-color: #00af00\">318</span> │\n",
       "├─────────────────────────────────┼────────────────────────┼───────────────┤\n",
       "│ dense_13 (<span style=\"color: #0087ff; text-decoration-color: #0087ff\">Dense</span>)                │ (<span style=\"color: #00d7ff; text-decoration-color: #00d7ff\">None</span>, <span style=\"color: #00af00; text-decoration-color: #00af00\">6</span>)              │            <span style=\"color: #00af00; text-decoration-color: #00af00\">42</span> │\n",
       "├─────────────────────────────────┼────────────────────────┼───────────────┤\n",
       "│ dense_14 (<span style=\"color: #0087ff; text-decoration-color: #0087ff\">Dense</span>)                │ (<span style=\"color: #00d7ff; text-decoration-color: #00d7ff\">None</span>, <span style=\"color: #00af00; text-decoration-color: #00af00\">1</span>)              │             <span style=\"color: #00af00; text-decoration-color: #00af00\">7</span> │\n",
       "└─────────────────────────────────┴────────────────────────┴───────────────┘\n",
       "</pre>\n"
      ],
      "text/plain": [
       "┏━━━━━━━━━━━━━━━━━━━━━━━━━━━━━━━━━┳━━━━━━━━━━━━━━━━━━━━━━━━┳━━━━━━━━━━━━━━━┓\n",
       "┃\u001b[1m \u001b[0m\u001b[1mLayer (type)                   \u001b[0m\u001b[1m \u001b[0m┃\u001b[1m \u001b[0m\u001b[1mOutput Shape          \u001b[0m\u001b[1m \u001b[0m┃\u001b[1m \u001b[0m\u001b[1m      Param #\u001b[0m\u001b[1m \u001b[0m┃\n",
       "┡━━━━━━━━━━━━━━━━━━━━━━━━━━━━━━━━━╇━━━━━━━━━━━━━━━━━━━━━━━━╇━━━━━━━━━━━━━━━┩\n",
       "│ dense_12 (\u001b[38;5;33mDense\u001b[0m)                │ (\u001b[38;5;45mNone\u001b[0m, \u001b[38;5;34m6\u001b[0m)              │           \u001b[38;5;34m318\u001b[0m │\n",
       "├─────────────────────────────────┼────────────────────────┼───────────────┤\n",
       "│ dense_13 (\u001b[38;5;33mDense\u001b[0m)                │ (\u001b[38;5;45mNone\u001b[0m, \u001b[38;5;34m6\u001b[0m)              │            \u001b[38;5;34m42\u001b[0m │\n",
       "├─────────────────────────────────┼────────────────────────┼───────────────┤\n",
       "│ dense_14 (\u001b[38;5;33mDense\u001b[0m)                │ (\u001b[38;5;45mNone\u001b[0m, \u001b[38;5;34m1\u001b[0m)              │             \u001b[38;5;34m7\u001b[0m │\n",
       "└─────────────────────────────────┴────────────────────────┴───────────────┘\n"
      ]
     },
     "metadata": {},
     "output_type": "display_data"
    },
    {
     "data": {
      "text/html": [
       "<pre style=\"white-space:pre;overflow-x:auto;line-height:normal;font-family:Menlo,'DejaVu Sans Mono',consolas,'Courier New',monospace\"><span style=\"font-weight: bold\"> Total params: </span><span style=\"color: #00af00; text-decoration-color: #00af00\">367</span> (1.43 KB)\n",
       "</pre>\n"
      ],
      "text/plain": [
       "\u001b[1m Total params: \u001b[0m\u001b[38;5;34m367\u001b[0m (1.43 KB)\n"
      ]
     },
     "metadata": {},
     "output_type": "display_data"
    },
    {
     "data": {
      "text/html": [
       "<pre style=\"white-space:pre;overflow-x:auto;line-height:normal;font-family:Menlo,'DejaVu Sans Mono',consolas,'Courier New',monospace\"><span style=\"font-weight: bold\"> Trainable params: </span><span style=\"color: #00af00; text-decoration-color: #00af00\">367</span> (1.43 KB)\n",
       "</pre>\n"
      ],
      "text/plain": [
       "\u001b[1m Trainable params: \u001b[0m\u001b[38;5;34m367\u001b[0m (1.43 KB)\n"
      ]
     },
     "metadata": {},
     "output_type": "display_data"
    },
    {
     "data": {
      "text/html": [
       "<pre style=\"white-space:pre;overflow-x:auto;line-height:normal;font-family:Menlo,'DejaVu Sans Mono',consolas,'Courier New',monospace\"><span style=\"font-weight: bold\"> Non-trainable params: </span><span style=\"color: #00af00; text-decoration-color: #00af00\">0</span> (0.00 B)\n",
       "</pre>\n"
      ],
      "text/plain": [
       "\u001b[1m Non-trainable params: \u001b[0m\u001b[38;5;34m0\u001b[0m (0.00 B)\n"
      ]
     },
     "metadata": {},
     "output_type": "display_data"
    }
   ],
   "source": [
    "# Create a Keras Sequential model and add more than one Dense hidden layer\n",
    "import tensorflow as tf\n",
    "nn_model = tf.keras.models.Sequential()\n",
    "\n",
    "# Set the input nodes to the number of features\n",
    "input_nodes = len(X.columns)\n",
    "\n",
    "nn_model.add(tf.keras.layers.Dense(units=6, activation=\"relu\", input_dim=input_nodes))\n",
    "\n",
    "nn_model.add(tf.keras.layers.Dense(units=6, activation=\"relu\"))\n",
    "\n",
    "nn_model.add(tf.keras.layers.Dense(units=1, activation=\"sigmoid\"))\n",
    "\n",
    "# Check the structure of the Sequential model\n",
    "nn_model.summary()"
   ]
  },
  {
   "cell_type": "code",
   "execution_count": 86,
   "metadata": {},
   "outputs": [
    {
     "data": {
      "text/plain": [
       "Age                              float64\n",
       "Gender                           float64\n",
       "Cholesterol_Level                float64\n",
       "Blood_Pressure                   float64\n",
       "Smoking_History                  float64\n",
       "Alcohol_Consumption              float64\n",
       "Physical_Activity                float64\n",
       "Obesity                          float64\n",
       "Diabetes                         float64\n",
       "Family_History                   float64\n",
       "Stress_Levels                    float64\n",
       "Dietary_Habits                   float64\n",
       "Heart_Attack_History             float64\n",
       "Chest_Pain                       float64\n",
       "Exercise_Induced_Angina          float64\n",
       "Resting_ECG                      float64\n",
       "Max_Heart_Rate_Achieved          float64\n",
       "HDL_Cholesterol                  float64\n",
       "LDL_Cholesterol                  float64\n",
       "Triglycerides                    float64\n",
       "Heart_Disease_Risk               float64\n",
       "Medication_Adherence             float64\n",
       "Urbanization_Level               float64\n",
       "Air_Pollution_Exposure           float64\n",
       "Access_To_Healthcare             float64\n",
       "Income_Level                     float64\n",
       "Country_Bangladesh               float64\n",
       "Country_Brazil                   float64\n",
       "Country_Canada                   float64\n",
       "Country_China                    float64\n",
       "Country_Egypt                    float64\n",
       "Country_France                   float64\n",
       "Country_Germany                  float64\n",
       "Country_India                    float64\n",
       "Country_Indonesia                float64\n",
       "Country_Italy                    float64\n",
       "Country_Japan                    float64\n",
       "Country_Mexico                   float64\n",
       "Country_Nigeria                  float64\n",
       "Country_Pakistan                 float64\n",
       "Country_Philippines              float64\n",
       "Country_Russia                   float64\n",
       "Country_Saudi Arabia             float64\n",
       "Country_South Africa             float64\n",
       "Country_South Korea              float64\n",
       "Country_Spain                    float64\n",
       "Country_Turkey                   float64\n",
       "Country_United Kingdom           float64\n",
       "Country_United States            float64\n",
       "Country_Vietnam                  float64\n",
       "Thalassemia_Normal               float64\n",
       "Thalassemia_Reversible Defect    float64\n",
       "dtype: object"
      ]
     },
     "execution_count": 86,
     "metadata": {},
     "output_type": "execute_result"
    }
   ],
   "source": [
    "X.dtypes"
   ]
  },
  {
   "cell_type": "code",
   "execution_count": 87,
   "metadata": {},
   "outputs": [
    {
     "data": {
      "text/plain": [
       "dtype('float64')"
      ]
     },
     "execution_count": 87,
     "metadata": {},
     "output_type": "execute_result"
    }
   ],
   "source": [
    "y.dtypes"
   ]
  },
  {
   "cell_type": "code",
   "execution_count": 88,
   "metadata": {},
   "outputs": [
    {
     "data": {
      "text/plain": [
       "0   -1.000252\n",
       "1   -1.000252\n",
       "2    0.999748\n",
       "3    0.999748\n",
       "4   -1.000252\n",
       "Name: Heart_Attack_Outcome, dtype: float64"
      ]
     },
     "execution_count": 88,
     "metadata": {},
     "output_type": "execute_result"
    }
   ],
   "source": [
    "y.head()"
   ]
  },
  {
   "cell_type": "code",
   "execution_count": null,
   "metadata": {},
   "outputs": [
    {
     "name": "stdout",
     "output_type": "stream",
     "text": [
      "Epoch 1/10\n",
      "\u001b[1m14603/14603\u001b[0m \u001b[32m━━━━━━━━━━━━━━━━━━━━\u001b[0m\u001b[37m\u001b[0m \u001b[1m699s\u001b[0m 47ms/step - accuracy: 0.0000e+00 - loss: 0.0301\n",
      "Epoch 2/10\n",
      "\u001b[1m 7969/14603\u001b[0m \u001b[32m━━━━━━━━━━\u001b[0m\u001b[37m━━━━━━━━━━\u001b[0m \u001b[1m7:26\u001b[0m 67ms/step - accuracy: 0.0000e+00 - loss: -0.0572"
     ]
    }
   ],
   "source": [
    "# Compile the model and train over more than ### epochs\n",
    "nn_model.compile(loss=\"binary_crossentropy\", optimizer=\"adam\", metrics=[\"accuracy\"])\n",
    "\n",
    "fit_model = nn_model.fit(X_train, y_train, epochs=5)"
   ]
  },
  {
   "cell_type": "code",
   "execution_count": null,
   "metadata": {},
   "outputs": [],
   "source": [
    "results = nn_model.evaluate(np.array(X_test), {\n",
    "    'department_output': department_encoded_test, \n",
    "    'attrition_output': attrition_encoded_test\n",
    "\n",
    "})\n",
    "results"
   ]
  }
 ],
 "metadata": {
  "kernelspec": {
   "display_name": "dev",
   "language": "python",
   "name": "python3"
  },
  "language_info": {
   "codemirror_mode": {
    "name": "ipython",
    "version": 3
   },
   "file_extension": ".py",
   "mimetype": "text/x-python",
   "name": "python",
   "nbconvert_exporter": "python",
   "pygments_lexer": "ipython3",
   "version": "3.10.14"
  }
 },
 "nbformat": 4,
 "nbformat_minor": 2
}
