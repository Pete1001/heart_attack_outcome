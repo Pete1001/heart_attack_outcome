{
 "cells": [
  {
   "cell_type": "code",
   "execution_count": 20,
   "metadata": {},
   "outputs": [],
   "source": [
    "# Import our dependencies\n",
    "from sklearn.model_selection import train_test_split\n",
    "from sklearn.preprocessing import StandardScaler, OrdinalEncoder, OneHotEncoder, LabelEncoder\n",
    "import pandas as pd\n",
    "import numpy as np"
   ]
  },
  {
   "cell_type": "code",
   "execution_count": 10,
   "metadata": {},
   "outputs": [
    {
     "data": {
      "text/html": [
       "<div>\n",
       "<style scoped>\n",
       "    .dataframe tbody tr th:only-of-type {\n",
       "        vertical-align: middle;\n",
       "    }\n",
       "\n",
       "    .dataframe tbody tr th {\n",
       "        vertical-align: top;\n",
       "    }\n",
       "\n",
       "    .dataframe thead th {\n",
       "        text-align: right;\n",
       "    }\n",
       "</style>\n",
       "<table border=\"1\" class=\"dataframe\">\n",
       "  <thead>\n",
       "    <tr style=\"text-align: right;\">\n",
       "      <th></th>\n",
       "      <th>Country</th>\n",
       "      <th>Age</th>\n",
       "      <th>Gender</th>\n",
       "      <th>Cholesterol_Level</th>\n",
       "      <th>Blood_Pressure</th>\n",
       "      <th>Smoking_History</th>\n",
       "      <th>Alcohol_Consumption</th>\n",
       "      <th>Physical_Activity</th>\n",
       "      <th>Obesity</th>\n",
       "      <th>Diabetes</th>\n",
       "      <th>...</th>\n",
       "      <th>LDL_Cholesterol</th>\n",
       "      <th>Triglycerides</th>\n",
       "      <th>Heart_Disease_Risk</th>\n",
       "      <th>Medication_Adherence</th>\n",
       "      <th>Urbanization_Level</th>\n",
       "      <th>Air_Pollution_Exposure</th>\n",
       "      <th>Access_To_Healthcare</th>\n",
       "      <th>Education_Level</th>\n",
       "      <th>Income_Level</th>\n",
       "      <th>Heart_Attack_Outcome</th>\n",
       "    </tr>\n",
       "  </thead>\n",
       "  <tbody>\n",
       "    <tr>\n",
       "      <th>0</th>\n",
       "      <td>Germany</td>\n",
       "      <td>39</td>\n",
       "      <td>Male</td>\n",
       "      <td>210.091036</td>\n",
       "      <td>173.301650</td>\n",
       "      <td>Never</td>\n",
       "      <td>0.531933</td>\n",
       "      <td>Active</td>\n",
       "      <td>No</td>\n",
       "      <td>No</td>\n",
       "      <td>...</td>\n",
       "      <td>68.333573</td>\n",
       "      <td>165.060897</td>\n",
       "      <td>Medium</td>\n",
       "      <td>No</td>\n",
       "      <td>Urban</td>\n",
       "      <td>51.988416</td>\n",
       "      <td>Good</td>\n",
       "      <td>Tertiary</td>\n",
       "      <td>Low</td>\n",
       "      <td>Died</td>\n",
       "    </tr>\n",
       "    <tr>\n",
       "      <th>1</th>\n",
       "      <td>Egypt</td>\n",
       "      <td>88</td>\n",
       "      <td>Male</td>\n",
       "      <td>163.998730</td>\n",
       "      <td>137.381678</td>\n",
       "      <td>Former</td>\n",
       "      <td>5.626668</td>\n",
       "      <td>Sedentary</td>\n",
       "      <td>Yes</td>\n",
       "      <td>Yes</td>\n",
       "      <td>...</td>\n",
       "      <td>98.194015</td>\n",
       "      <td>452.124651</td>\n",
       "      <td>Medium</td>\n",
       "      <td>No</td>\n",
       "      <td>Suburban</td>\n",
       "      <td>97.739896</td>\n",
       "      <td>Good</td>\n",
       "      <td>NaN</td>\n",
       "      <td>Low</td>\n",
       "      <td>Died</td>\n",
       "    </tr>\n",
       "    <tr>\n",
       "      <th>2</th>\n",
       "      <td>Spain</td>\n",
       "      <td>60</td>\n",
       "      <td>Female</td>\n",
       "      <td>263.502590</td>\n",
       "      <td>139.737677</td>\n",
       "      <td>Former</td>\n",
       "      <td>0.928015</td>\n",
       "      <td>Active</td>\n",
       "      <td>No</td>\n",
       "      <td>Yes</td>\n",
       "      <td>...</td>\n",
       "      <td>118.767677</td>\n",
       "      <td>171.432620</td>\n",
       "      <td>Low</td>\n",
       "      <td>No</td>\n",
       "      <td>Urban</td>\n",
       "      <td>60.352793</td>\n",
       "      <td>Poor</td>\n",
       "      <td>Tertiary</td>\n",
       "      <td>Low</td>\n",
       "      <td>Survived</td>\n",
       "    </tr>\n",
       "    <tr>\n",
       "      <th>3</th>\n",
       "      <td>Canada</td>\n",
       "      <td>25</td>\n",
       "      <td>Female</td>\n",
       "      <td>292.003927</td>\n",
       "      <td>85.992807</td>\n",
       "      <td>Former</td>\n",
       "      <td>7.374519</td>\n",
       "      <td>Active</td>\n",
       "      <td>No</td>\n",
       "      <td>Yes</td>\n",
       "      <td>...</td>\n",
       "      <td>190.190597</td>\n",
       "      <td>329.553258</td>\n",
       "      <td>Medium</td>\n",
       "      <td>No</td>\n",
       "      <td>Urban</td>\n",
       "      <td>14.397347</td>\n",
       "      <td>Good</td>\n",
       "      <td>Secondary</td>\n",
       "      <td>High</td>\n",
       "      <td>Survived</td>\n",
       "    </tr>\n",
       "    <tr>\n",
       "      <th>4</th>\n",
       "      <td>France</td>\n",
       "      <td>54</td>\n",
       "      <td>Female</td>\n",
       "      <td>267.736563</td>\n",
       "      <td>119.882856</td>\n",
       "      <td>Former</td>\n",
       "      <td>4.317845</td>\n",
       "      <td>Sedentary</td>\n",
       "      <td>Yes</td>\n",
       "      <td>No</td>\n",
       "      <td>...</td>\n",
       "      <td>188.209372</td>\n",
       "      <td>449.953074</td>\n",
       "      <td>High</td>\n",
       "      <td>Yes</td>\n",
       "      <td>Rural</td>\n",
       "      <td>69.448684</td>\n",
       "      <td>Good</td>\n",
       "      <td>NaN</td>\n",
       "      <td>Low</td>\n",
       "      <td>Died</td>\n",
       "    </tr>\n",
       "  </tbody>\n",
       "</table>\n",
       "<p>5 rows × 30 columns</p>\n",
       "</div>"
      ],
      "text/plain": [
       "   Country  Age  Gender  Cholesterol_Level  Blood_Pressure Smoking_History  \\\n",
       "0  Germany   39    Male         210.091036      173.301650           Never   \n",
       "1    Egypt   88    Male         163.998730      137.381678          Former   \n",
       "2    Spain   60  Female         263.502590      139.737677          Former   \n",
       "3   Canada   25  Female         292.003927       85.992807          Former   \n",
       "4   France   54  Female         267.736563      119.882856          Former   \n",
       "\n",
       "   Alcohol_Consumption Physical_Activity Obesity Diabetes  ...  \\\n",
       "0             0.531933            Active      No       No  ...   \n",
       "1             5.626668         Sedentary     Yes      Yes  ...   \n",
       "2             0.928015            Active      No      Yes  ...   \n",
       "3             7.374519            Active      No      Yes  ...   \n",
       "4             4.317845         Sedentary     Yes       No  ...   \n",
       "\n",
       "  LDL_Cholesterol  Triglycerides Heart_Disease_Risk Medication_Adherence  \\\n",
       "0       68.333573     165.060897             Medium                   No   \n",
       "1       98.194015     452.124651             Medium                   No   \n",
       "2      118.767677     171.432620                Low                   No   \n",
       "3      190.190597     329.553258             Medium                   No   \n",
       "4      188.209372     449.953074               High                  Yes   \n",
       "\n",
       "  Urbanization_Level Air_Pollution_Exposure Access_To_Healthcare  \\\n",
       "0              Urban              51.988416                 Good   \n",
       "1           Suburban              97.739896                 Good   \n",
       "2              Urban              60.352793                 Poor   \n",
       "3              Urban              14.397347                 Good   \n",
       "4              Rural              69.448684                 Good   \n",
       "\n",
       "   Education_Level Income_Level  Heart_Attack_Outcome  \n",
       "0         Tertiary          Low                  Died  \n",
       "1              NaN          Low                  Died  \n",
       "2         Tertiary          Low              Survived  \n",
       "3        Secondary         High              Survived  \n",
       "4              NaN          Low                  Died  \n",
       "\n",
       "[5 rows x 30 columns]"
      ]
     },
     "execution_count": 10,
     "metadata": {},
     "output_type": "execute_result"
    }
   ],
   "source": [
    "# Load the dataset into a DataFrame\n",
    "data = pd.read_csv('Resources/heart_attack_predictions.csv')\n",
    "data.head()"
   ]
  },
  {
   "cell_type": "code",
   "execution_count": 11,
   "metadata": {},
   "outputs": [
    {
     "data": {
      "text/plain": [
       "Index(['Country', 'Age', 'Gender', 'Cholesterol_Level', 'Blood_Pressure',\n",
       "       'Smoking_History', 'Alcohol_Consumption', 'Physical_Activity',\n",
       "       'Obesity', 'Diabetes', 'Family_History', 'Stress_Levels',\n",
       "       'Dietary_Habits', 'Heart_Attack_History', 'Chest_Pain',\n",
       "       'Exercise_Induced_Angina', 'Resting_ECG', 'Max_Heart_Rate_Achieved',\n",
       "       'Thalassemia', 'HDL_Cholesterol', 'LDL_Cholesterol', 'Triglycerides',\n",
       "       'Heart_Disease_Risk', 'Medication_Adherence', 'Urbanization_Level',\n",
       "       'Air_Pollution_Exposure', 'Access_To_Healthcare', 'Education_Level',\n",
       "       'Income_Level', 'Heart_Attack_Outcome'],\n",
       "      dtype='object')"
      ]
     },
     "execution_count": 11,
     "metadata": {},
     "output_type": "execute_result"
    }
   ],
   "source": [
    "data.columns"
   ]
  },
  {
   "cell_type": "code",
   "execution_count": 12,
   "metadata": {},
   "outputs": [
    {
     "data": {
      "text/plain": [
       "Country                     object\n",
       "Age                          int64\n",
       "Gender                      object\n",
       "Cholesterol_Level          float64\n",
       "Blood_Pressure             float64\n",
       "Smoking_History             object\n",
       "Alcohol_Consumption        float64\n",
       "Physical_Activity           object\n",
       "Obesity                     object\n",
       "Diabetes                    object\n",
       "Family_History              object\n",
       "Stress_Levels              float64\n",
       "Dietary_Habits              object\n",
       "Heart_Attack_History        object\n",
       "Chest_Pain                  object\n",
       "Exercise_Induced_Angina     object\n",
       "Resting_ECG                 object\n",
       "Max_Heart_Rate_Achieved      int64\n",
       "Thalassemia                 object\n",
       "HDL_Cholesterol            float64\n",
       "LDL_Cholesterol            float64\n",
       "Triglycerides              float64\n",
       "Heart_Disease_Risk          object\n",
       "Medication_Adherence        object\n",
       "Urbanization_Level          object\n",
       "Air_Pollution_Exposure     float64\n",
       "Access_To_Healthcare        object\n",
       "Education_Level             object\n",
       "Income_Level                object\n",
       "Heart_Attack_Outcome        object\n",
       "dtype: object"
      ]
     },
     "execution_count": 12,
     "metadata": {},
     "output_type": "execute_result"
    }
   ],
   "source": [
    "data.dtypes"
   ]
  },
  {
   "cell_type": "code",
   "execution_count": 13,
   "metadata": {},
   "outputs": [
    {
     "name": "stdout",
     "output_type": "stream",
     "text": [
      "Object columns: ['Country', 'Gender', 'Smoking_History', 'Physical_Activity', 'Obesity', 'Diabetes', 'Family_History', 'Dietary_Habits', 'Heart_Attack_History', 'Chest_Pain', 'Exercise_Induced_Angina', 'Resting_ECG', 'Thalassemia', 'Heart_Disease_Risk', 'Medication_Adherence', 'Urbanization_Level', 'Access_To_Healthcare', 'Education_Level', 'Income_Level', 'Heart_Attack_Outcome']\n"
     ]
    }
   ],
   "source": [
    "# Identify all object columns\n",
    "object_columns = data.select_dtypes(include=['object']).columns.tolist()\n",
    "print(f\"Object columns: {object_columns}\")"
   ]
  },
  {
   "cell_type": "code",
   "execution_count": 14,
   "metadata": {},
   "outputs": [],
   "source": [
    "Nominal_data = ['Country', 'Thalassemia']\n",
    "Binary_Data = ['Gender', 'Obesity', 'Diabetes', 'Family_History', 'Heart_Attack_History', 'Chest_Pain','Exercise_Induced_Angina', 'Resting_ECG', 'Medication_Adherence']\n",
    "# Resting_ECG abnormal and normal rather than yes and no\n",
    "Ordinal_Data = ['Smoking_History', 'Physical_Activity', 'Dietary_Habits', 'Heart_Disease_Risk', 'Urbanization_Level','Access_To_Healthcare', 'Education_Level', 'Income_Level' ]"
   ]
  },
  {
   "cell_type": "code",
   "execution_count": 16,
   "metadata": {},
   "outputs": [],
   "source": [
    "#Create Ordinal Encoders:\n",
    "smoking_encoder = OrdinalEncoder(categories=[['Current', 'Former', 'Never']])\n",
    "activity_encoder = OrdinalEncoder(categories=[['Sedentary', 'Moderate', 'Active']])\n",
    "dietary_encoder = OrdinalEncoder(categories=[['Unhealthy', 'Moderate', 'Healthy']])\n",
    "heart_disease_risk_encoder = OrdinalEncoder(categories=[['Low', 'Medium', 'High']])\n",
    "urbanization_encoder = OrdinalEncoder(categories=[['Urban', 'Suburban', 'Rural']])\n",
    "access_to_healthcare_encoder = OrdinalEncoder(categories=[['Poor', 'Average', 'Good']])\n",
    "education_encoder = OrdinalEncoder(categories=[['NaN', 'Primary', 'Secondary', 'Tertiary']])\n",
    "income_encoder = OrdinalEncoder(categories=[['Low', 'Medium', 'High']])"
   ]
  },
  {
   "cell_type": "code",
   "execution_count": 17,
   "metadata": {},
   "outputs": [
    {
     "ename": "ValueError",
     "evalue": "could not convert string to float: 'Current'",
     "output_type": "error",
     "traceback": [
      "\u001b[0;31m---------------------------------------------------------------------------\u001b[0m",
      "\u001b[0;31mValueError\u001b[0m                                Traceback (most recent call last)",
      "Cell \u001b[0;32mIn[17], line 2\u001b[0m\n\u001b[1;32m      1\u001b[0m \u001b[38;5;66;03m# Apply Ordinal Encoding to Ordinal Data\u001b[39;00m\n\u001b[0;32m----> 2\u001b[0m data[\u001b[38;5;124m'\u001b[39m\u001b[38;5;124mSmoking_History\u001b[39m\u001b[38;5;124m'\u001b[39m] \u001b[38;5;241m=\u001b[39m \u001b[43msmoking_encoder\u001b[49m\u001b[38;5;241;43m.\u001b[39;49m\u001b[43mfit_transform\u001b[49m\u001b[43m(\u001b[49m\u001b[43mdata\u001b[49m\u001b[43m[\u001b[49m\u001b[43m[\u001b[49m\u001b[38;5;124;43m'\u001b[39;49m\u001b[38;5;124;43mSmoking_History\u001b[39;49m\u001b[38;5;124;43m'\u001b[39;49m\u001b[43m]\u001b[49m\u001b[43m]\u001b[49m\u001b[43m)\u001b[49m\n\u001b[1;32m      3\u001b[0m data[\u001b[38;5;124m'\u001b[39m\u001b[38;5;124mPhysical_Activity\u001b[39m\u001b[38;5;124m'\u001b[39m] \u001b[38;5;241m=\u001b[39m activity_encoder\u001b[38;5;241m.\u001b[39mfit_transform(data[[\u001b[38;5;124m'\u001b[39m\u001b[38;5;124mPhysical_Activity\u001b[39m\u001b[38;5;124m'\u001b[39m]])\n\u001b[1;32m      4\u001b[0m data[\u001b[38;5;124m'\u001b[39m\u001b[38;5;124mDietary_Habits\u001b[39m\u001b[38;5;124m'\u001b[39m] \u001b[38;5;241m=\u001b[39m dietary_encoder\u001b[38;5;241m.\u001b[39mfit_transform(data[[\u001b[38;5;124m'\u001b[39m\u001b[38;5;124mDietary_Habits\u001b[39m\u001b[38;5;124m'\u001b[39m]])\n",
      "File \u001b[0;32m/opt/anaconda3/envs/dev/lib/python3.10/site-packages/sklearn/utils/_set_output.py:295\u001b[0m, in \u001b[0;36m_wrap_method_output.<locals>.wrapped\u001b[0;34m(self, X, *args, **kwargs)\u001b[0m\n\u001b[1;32m    293\u001b[0m \u001b[38;5;129m@wraps\u001b[39m(f)\n\u001b[1;32m    294\u001b[0m \u001b[38;5;28;01mdef\u001b[39;00m \u001b[38;5;21mwrapped\u001b[39m(\u001b[38;5;28mself\u001b[39m, X, \u001b[38;5;241m*\u001b[39margs, \u001b[38;5;241m*\u001b[39m\u001b[38;5;241m*\u001b[39mkwargs):\n\u001b[0;32m--> 295\u001b[0m     data_to_wrap \u001b[38;5;241m=\u001b[39m \u001b[43mf\u001b[49m\u001b[43m(\u001b[49m\u001b[38;5;28;43mself\u001b[39;49m\u001b[43m,\u001b[49m\u001b[43m \u001b[49m\u001b[43mX\u001b[49m\u001b[43m,\u001b[49m\u001b[43m \u001b[49m\u001b[38;5;241;43m*\u001b[39;49m\u001b[43margs\u001b[49m\u001b[43m,\u001b[49m\u001b[43m \u001b[49m\u001b[38;5;241;43m*\u001b[39;49m\u001b[38;5;241;43m*\u001b[39;49m\u001b[43mkwargs\u001b[49m\u001b[43m)\u001b[49m\n\u001b[1;32m    296\u001b[0m     \u001b[38;5;28;01mif\u001b[39;00m \u001b[38;5;28misinstance\u001b[39m(data_to_wrap, \u001b[38;5;28mtuple\u001b[39m):\n\u001b[1;32m    297\u001b[0m         \u001b[38;5;66;03m# only wrap the first output for cross decomposition\u001b[39;00m\n\u001b[1;32m    298\u001b[0m         return_tuple \u001b[38;5;241m=\u001b[39m (\n\u001b[1;32m    299\u001b[0m             _wrap_data_with_container(method, data_to_wrap[\u001b[38;5;241m0\u001b[39m], X, \u001b[38;5;28mself\u001b[39m),\n\u001b[1;32m    300\u001b[0m             \u001b[38;5;241m*\u001b[39mdata_to_wrap[\u001b[38;5;241m1\u001b[39m:],\n\u001b[1;32m    301\u001b[0m         )\n",
      "File \u001b[0;32m/opt/anaconda3/envs/dev/lib/python3.10/site-packages/sklearn/base.py:1098\u001b[0m, in \u001b[0;36mTransformerMixin.fit_transform\u001b[0;34m(self, X, y, **fit_params)\u001b[0m\n\u001b[1;32m   1083\u001b[0m         warnings\u001b[38;5;241m.\u001b[39mwarn(\n\u001b[1;32m   1084\u001b[0m             (\n\u001b[1;32m   1085\u001b[0m                 \u001b[38;5;124mf\u001b[39m\u001b[38;5;124m\"\u001b[39m\u001b[38;5;124mThis object (\u001b[39m\u001b[38;5;132;01m{\u001b[39;00m\u001b[38;5;28mself\u001b[39m\u001b[38;5;241m.\u001b[39m\u001b[38;5;18m__class__\u001b[39m\u001b[38;5;241m.\u001b[39m\u001b[38;5;18m__name__\u001b[39m\u001b[38;5;132;01m}\u001b[39;00m\u001b[38;5;124m) has a `transform`\u001b[39m\u001b[38;5;124m\"\u001b[39m\n\u001b[0;32m   (...)\u001b[0m\n\u001b[1;32m   1093\u001b[0m             \u001b[38;5;167;01mUserWarning\u001b[39;00m,\n\u001b[1;32m   1094\u001b[0m         )\n\u001b[1;32m   1096\u001b[0m \u001b[38;5;28;01mif\u001b[39;00m y \u001b[38;5;129;01mis\u001b[39;00m \u001b[38;5;28;01mNone\u001b[39;00m:\n\u001b[1;32m   1097\u001b[0m     \u001b[38;5;66;03m# fit method of arity 1 (unsupervised transformation)\u001b[39;00m\n\u001b[0;32m-> 1098\u001b[0m     \u001b[38;5;28;01mreturn\u001b[39;00m \u001b[38;5;28;43mself\u001b[39;49m\u001b[38;5;241;43m.\u001b[39;49m\u001b[43mfit\u001b[49m\u001b[43m(\u001b[49m\u001b[43mX\u001b[49m\u001b[43m,\u001b[49m\u001b[43m \u001b[49m\u001b[38;5;241;43m*\u001b[39;49m\u001b[38;5;241;43m*\u001b[39;49m\u001b[43mfit_params\u001b[49m\u001b[43m)\u001b[49m\u001b[38;5;241m.\u001b[39mtransform(X)\n\u001b[1;32m   1099\u001b[0m \u001b[38;5;28;01melse\u001b[39;00m:\n\u001b[1;32m   1100\u001b[0m     \u001b[38;5;66;03m# fit method of arity 2 (supervised transformation)\u001b[39;00m\n\u001b[1;32m   1101\u001b[0m     \u001b[38;5;28;01mreturn\u001b[39;00m \u001b[38;5;28mself\u001b[39m\u001b[38;5;241m.\u001b[39mfit(X, y, \u001b[38;5;241m*\u001b[39m\u001b[38;5;241m*\u001b[39mfit_params)\u001b[38;5;241m.\u001b[39mtransform(X)\n",
      "File \u001b[0;32m/opt/anaconda3/envs/dev/lib/python3.10/site-packages/sklearn/base.py:1474\u001b[0m, in \u001b[0;36m_fit_context.<locals>.decorator.<locals>.wrapper\u001b[0;34m(estimator, *args, **kwargs)\u001b[0m\n\u001b[1;32m   1467\u001b[0m     estimator\u001b[38;5;241m.\u001b[39m_validate_params()\n\u001b[1;32m   1469\u001b[0m \u001b[38;5;28;01mwith\u001b[39;00m config_context(\n\u001b[1;32m   1470\u001b[0m     skip_parameter_validation\u001b[38;5;241m=\u001b[39m(\n\u001b[1;32m   1471\u001b[0m         prefer_skip_nested_validation \u001b[38;5;129;01mor\u001b[39;00m global_skip_validation\n\u001b[1;32m   1472\u001b[0m     )\n\u001b[1;32m   1473\u001b[0m ):\n\u001b[0;32m-> 1474\u001b[0m     \u001b[38;5;28;01mreturn\u001b[39;00m \u001b[43mfit_method\u001b[49m\u001b[43m(\u001b[49m\u001b[43mestimator\u001b[49m\u001b[43m,\u001b[49m\u001b[43m \u001b[49m\u001b[38;5;241;43m*\u001b[39;49m\u001b[43margs\u001b[49m\u001b[43m,\u001b[49m\u001b[43m \u001b[49m\u001b[38;5;241;43m*\u001b[39;49m\u001b[38;5;241;43m*\u001b[39;49m\u001b[43mkwargs\u001b[49m\u001b[43m)\u001b[49m\n",
      "File \u001b[0;32m/opt/anaconda3/envs/dev/lib/python3.10/site-packages/sklearn/preprocessing/_encoders.py:1495\u001b[0m, in \u001b[0;36mOrdinalEncoder.fit\u001b[0;34m(self, X, y)\u001b[0m\n\u001b[1;32m   1488\u001b[0m     \u001b[38;5;28;01mraise\u001b[39;00m \u001b[38;5;167;01mTypeError\u001b[39;00m(\n\u001b[1;32m   1489\u001b[0m         \u001b[38;5;124m\"\u001b[39m\u001b[38;5;124munknown_value should only be set when \u001b[39m\u001b[38;5;124m\"\u001b[39m\n\u001b[1;32m   1490\u001b[0m         \u001b[38;5;124m\"\u001b[39m\u001b[38;5;124mhandle_unknown is \u001b[39m\u001b[38;5;124m'\u001b[39m\u001b[38;5;124muse_encoded_value\u001b[39m\u001b[38;5;124m'\u001b[39m\u001b[38;5;124m, \u001b[39m\u001b[38;5;124m\"\u001b[39m\n\u001b[1;32m   1491\u001b[0m         \u001b[38;5;124mf\u001b[39m\u001b[38;5;124m\"\u001b[39m\u001b[38;5;124mgot \u001b[39m\u001b[38;5;132;01m{\u001b[39;00m\u001b[38;5;28mself\u001b[39m\u001b[38;5;241m.\u001b[39munknown_value\u001b[38;5;132;01m}\u001b[39;00m\u001b[38;5;124m.\u001b[39m\u001b[38;5;124m\"\u001b[39m\n\u001b[1;32m   1492\u001b[0m     )\n\u001b[1;32m   1494\u001b[0m \u001b[38;5;66;03m# `_fit` will only raise an error when `self.handle_unknown=\"error\"`\u001b[39;00m\n\u001b[0;32m-> 1495\u001b[0m fit_results \u001b[38;5;241m=\u001b[39m \u001b[38;5;28;43mself\u001b[39;49m\u001b[38;5;241;43m.\u001b[39;49m\u001b[43m_fit\u001b[49m\u001b[43m(\u001b[49m\n\u001b[1;32m   1496\u001b[0m \u001b[43m    \u001b[49m\u001b[43mX\u001b[49m\u001b[43m,\u001b[49m\n\u001b[1;32m   1497\u001b[0m \u001b[43m    \u001b[49m\u001b[43mhandle_unknown\u001b[49m\u001b[38;5;241;43m=\u001b[39;49m\u001b[38;5;28;43mself\u001b[39;49m\u001b[38;5;241;43m.\u001b[39;49m\u001b[43mhandle_unknown\u001b[49m\u001b[43m,\u001b[49m\n\u001b[1;32m   1498\u001b[0m \u001b[43m    \u001b[49m\u001b[43mforce_all_finite\u001b[49m\u001b[38;5;241;43m=\u001b[39;49m\u001b[38;5;124;43m\"\u001b[39;49m\u001b[38;5;124;43mallow-nan\u001b[39;49m\u001b[38;5;124;43m\"\u001b[39;49m\u001b[43m,\u001b[49m\n\u001b[1;32m   1499\u001b[0m \u001b[43m    \u001b[49m\u001b[43mreturn_and_ignore_missing_for_infrequent\u001b[49m\u001b[38;5;241;43m=\u001b[39;49m\u001b[38;5;28;43;01mTrue\u001b[39;49;00m\u001b[43m,\u001b[49m\n\u001b[1;32m   1500\u001b[0m \u001b[43m\u001b[49m\u001b[43m)\u001b[49m\n\u001b[1;32m   1501\u001b[0m \u001b[38;5;28mself\u001b[39m\u001b[38;5;241m.\u001b[39m_missing_indices \u001b[38;5;241m=\u001b[39m fit_results[\u001b[38;5;124m\"\u001b[39m\u001b[38;5;124mmissing_indices\u001b[39m\u001b[38;5;124m\"\u001b[39m]\n\u001b[1;32m   1503\u001b[0m cardinalities \u001b[38;5;241m=\u001b[39m [\u001b[38;5;28mlen\u001b[39m(categories) \u001b[38;5;28;01mfor\u001b[39;00m categories \u001b[38;5;129;01min\u001b[39;00m \u001b[38;5;28mself\u001b[39m\u001b[38;5;241m.\u001b[39mcategories_]\n",
      "File \u001b[0;32m/opt/anaconda3/envs/dev/lib/python3.10/site-packages/sklearn/preprocessing/_encoders.py:113\u001b[0m, in \u001b[0;36m_BaseEncoder._fit\u001b[0;34m(self, X, handle_unknown, force_all_finite, return_counts, return_and_ignore_missing_for_infrequent)\u001b[0m\n\u001b[1;32m    110\u001b[0m \u001b[38;5;28;01melse\u001b[39;00m:\n\u001b[1;32m    111\u001b[0m     Xi_dtype \u001b[38;5;241m=\u001b[39m Xi\u001b[38;5;241m.\u001b[39mdtype\n\u001b[0;32m--> 113\u001b[0m cats \u001b[38;5;241m=\u001b[39m \u001b[43mnp\u001b[49m\u001b[38;5;241;43m.\u001b[39;49m\u001b[43marray\u001b[49m\u001b[43m(\u001b[49m\u001b[38;5;28;43mself\u001b[39;49m\u001b[38;5;241;43m.\u001b[39;49m\u001b[43mcategories\u001b[49m\u001b[43m[\u001b[49m\u001b[43mi\u001b[49m\u001b[43m]\u001b[49m\u001b[43m,\u001b[49m\u001b[43m \u001b[49m\u001b[43mdtype\u001b[49m\u001b[38;5;241;43m=\u001b[39;49m\u001b[43mXi_dtype\u001b[49m\u001b[43m)\u001b[49m\n\u001b[1;32m    114\u001b[0m \u001b[38;5;28;01mif\u001b[39;00m (\n\u001b[1;32m    115\u001b[0m     cats\u001b[38;5;241m.\u001b[39mdtype \u001b[38;5;241m==\u001b[39m \u001b[38;5;28mobject\u001b[39m\n\u001b[1;32m    116\u001b[0m     \u001b[38;5;129;01mand\u001b[39;00m \u001b[38;5;28misinstance\u001b[39m(cats[\u001b[38;5;241m0\u001b[39m], \u001b[38;5;28mbytes\u001b[39m)\n\u001b[1;32m    117\u001b[0m     \u001b[38;5;129;01mand\u001b[39;00m Xi\u001b[38;5;241m.\u001b[39mdtype\u001b[38;5;241m.\u001b[39mkind \u001b[38;5;241m!=\u001b[39m \u001b[38;5;124m\"\u001b[39m\u001b[38;5;124mS\u001b[39m\u001b[38;5;124m\"\u001b[39m\n\u001b[1;32m    118\u001b[0m ):\n\u001b[1;32m    119\u001b[0m     msg \u001b[38;5;241m=\u001b[39m (\n\u001b[1;32m    120\u001b[0m         \u001b[38;5;124mf\u001b[39m\u001b[38;5;124m\"\u001b[39m\u001b[38;5;124mIn column \u001b[39m\u001b[38;5;132;01m{\u001b[39;00mi\u001b[38;5;132;01m}\u001b[39;00m\u001b[38;5;124m, the predefined categories have type \u001b[39m\u001b[38;5;124m'\u001b[39m\u001b[38;5;124mbytes\u001b[39m\u001b[38;5;124m'\u001b[39m\u001b[38;5;124m\"\u001b[39m\n\u001b[1;32m    121\u001b[0m         \u001b[38;5;124m\"\u001b[39m\u001b[38;5;124m which is incompatible with values of type\u001b[39m\u001b[38;5;124m\"\u001b[39m\n\u001b[1;32m    122\u001b[0m         \u001b[38;5;124mf\u001b[39m\u001b[38;5;124m\"\u001b[39m\u001b[38;5;124m \u001b[39m\u001b[38;5;124m'\u001b[39m\u001b[38;5;132;01m{\u001b[39;00m\u001b[38;5;28mtype\u001b[39m(Xi[\u001b[38;5;241m0\u001b[39m])\u001b[38;5;241m.\u001b[39m\u001b[38;5;18m__name__\u001b[39m\u001b[38;5;132;01m}\u001b[39;00m\u001b[38;5;124m'\u001b[39m\u001b[38;5;124m.\u001b[39m\u001b[38;5;124m\"\u001b[39m\n\u001b[1;32m    123\u001b[0m     )\n",
      "\u001b[0;31mValueError\u001b[0m: could not convert string to float: 'Current'"
     ]
    }
   ],
   "source": [
    "# Apply Ordinal Encoding to Ordinal Data\n",
    "data['Smoking_History'] = smoking_encoder.fit_transform(data[['Smoking_History']])\n",
    "data['Physical_Activity'] = activity_encoder.fit_transform(data[['Physical_Activity']])\n",
    "data['Dietary_Habits'] = dietary_encoder.fit_transform(data[['Dietary_Habits']])\n",
    "data['Heart_Disease_Risk'] = heart_disease_risk_encoder.fit_transform(data[['Heart_Disease_Risk']])\n",
    "data['Urbanization_Level'] = urbanization_encoder.fit_transform(data[['Urbanization_Level']])\n",
    "data['Access_To_Healthcare'] = access_to_healthcare_encoder.fit_transform(data[['Access_To_Healthcare']])\n",
    "data['Education_Level'] = education_encoder.fit_transform(data[['Education_Level']])\n",
    "data['Income_Level'] = income_encoder.fit_transform(data[['Income_Level']])"
   ]
  },
  {
   "cell_type": "code",
   "execution_count": 18,
   "metadata": {},
   "outputs": [],
   "source": [
    "#One-hot encode the Nominal_data:\n",
    "data = pd.get_dummies(data, columns=['Country', 'Thalassemia'], drop_first=True)"
   ]
  },
  {
   "cell_type": "code",
   "execution_count": 21,
   "metadata": {},
   "outputs": [],
   "source": [
    "# Label encode Binary_Data:\n",
    "label_encoder = LabelEncoder()\n",
    "binary_columns = ['Gender', 'Obesity', 'Diabetes', 'Family_History', 'Heart_Attack_History', 'Chest_Pain', \n",
    "                  'Exercise_Induced_Angina', 'Resting_ECG', 'Medication_Adherence']\n",
    "\n",
    "for col in binary_columns:\n",
    "    data[col] = label_encoder.fit_transform(data[col])"
   ]
  },
  {
   "cell_type": "code",
   "execution_count": 22,
   "metadata": {},
   "outputs": [],
   "source": [
    "# Scale numerical columns\n",
    "# List of numerical columns \n",
    "numerical_columns = data.select_dtypes(include=[np.number]).columns.tolist()\n",
    "\n",
    "# Apply scaling\n",
    "scaler = StandardScaler()\n",
    "data[numerical_columns] = scaler.fit_transform(data[numerical_columns])"
   ]
  },
  {
   "cell_type": "code",
   "execution_count": 23,
   "metadata": {},
   "outputs": [],
   "source": [
    "#Split the data into train & test sets:\n",
    "y = data['Heart_Attack_Outcome']  \n",
    "\n",
    "X = data.drop(columns='Heart_Attack_Outcome')\n",
    "\n",
    "# Split data into training and testing\n",
    "X_train, X_test, y_train, y_test = train_test_split(X, y, random_state=42)"
   ]
  },
  {
   "cell_type": "code",
   "execution_count": null,
   "metadata": {},
   "outputs": [],
   "source": []
  }
 ],
 "metadata": {
  "kernelspec": {
   "display_name": "dev",
   "language": "python",
   "name": "python3"
  },
  "language_info": {
   "codemirror_mode": {
    "name": "ipython",
    "version": 3
   },
   "file_extension": ".py",
   "mimetype": "text/x-python",
   "name": "python",
   "nbconvert_exporter": "python",
   "pygments_lexer": "ipython3",
   "version": "3.10.14"
  }
 },
 "nbformat": 4,
 "nbformat_minor": 2
}
